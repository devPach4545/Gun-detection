{
 "cells": [
  {
   "cell_type": "code",
   "execution_count": 1,
   "metadata": {
    "colab": {
     "base_uri": "https://localhost:8080/"
    },
    "id": "yM6Wumu42pVy",
    "outputId": "b25cf7e2-2a69-4ced-e325-2abee16438e2"
   },
   "outputs": [
    {
     "name": "stdout",
     "output_type": "stream",
     "text": [
      "Cloning into 'yolov10'...\n",
      "remote: Enumerating objects: 20332, done.\u001b[K\n",
      "remote: Counting objects: 100% (2445/2445), done.\u001b[K\n",
      "remote: Compressing objects: 100% (249/249), done.\u001b[K\n",
      "remote: Total 20332 (delta 2317), reused 2196 (delta 2196), pack-reused 17887 (from 2)\u001b[K\n",
      "Receiving objects: 100% (20332/20332), 11.14 MiB | 15.42 MiB/s, done.\n",
      "Resolving deltas: 100% (14337/14337), done.\n"
     ]
    }
   ],
   "source": [
    "!git clone https://github.com/THU-MIG/yolov10.git"
   ]
  },
  {
   "cell_type": "code",
   "execution_count": 2,
   "metadata": {
    "colab": {
     "base_uri": "https://localhost:8080/",
     "height": 55
    },
    "id": "QsLQPGgY2sxE",
    "outputId": "9bd3a445-ec4e-4028-8030-808dac538b4f"
   },
   "outputs": [
    {
     "data": {
      "application/vnd.google.colaboratory.intrinsic+json": {
       "type": "string"
      },
      "text/plain": [
       "'1zd2yFehwEtZ5DHJUEXGcQUST1_LXPDk1'"
      ]
     },
     "execution_count": 2,
     "metadata": {},
     "output_type": "execute_result"
    }
   ],
   "source": [
    "import gdown\n",
    "url = \"https://drive.google.com/file/d/1zd2yFehwEtZ5DHJUEXGcQUST1_LXPDk1/view?usp=sharing\"\n",
    "file_id = url.split(\"/\")[-2]\n",
    "file_id"
   ]
  },
  {
   "cell_type": "code",
   "execution_count": 3,
   "metadata": {
    "colab": {
     "base_uri": "https://localhost:8080/"
    },
    "id": "qNNjGvXE225o",
    "outputId": "e7cd4e7e-f460-4a94-c24a-0f0fc51c6c42"
   },
   "outputs": [
    {
     "name": "stderr",
     "output_type": "stream",
     "text": [
      "Downloading...\n",
      "From: https://drive.google.com/uc?/export=download&id=1zd2yFehwEtZ5DHJUEXGcQUST1_LXPDk1\n",
      "To: /content/gun_dataset.zip\n",
      "100%|██████████| 4.77M/4.77M [00:00<00:00, 31.7MB/s]"
     ]
    },
    {
     "name": "stdout",
     "output_type": "stream",
     "text": [
      "done\n"
     ]
    },
    {
     "name": "stderr",
     "output_type": "stream",
     "text": [
      "\n"
     ]
    }
   ],
   "source": [
    "prefix = 'https://drive.google.com/uc?/export=download&id='\n",
    "gdown.download(prefix+file_id)\n",
    "print(\"done\")\n"
   ]
  },
  {
   "cell_type": "code",
   "execution_count": 4,
   "metadata": {
    "colab": {
     "base_uri": "https://localhost:8080/"
    },
    "id": "EYr_XCKA3BBi",
    "outputId": "a0ea640e-37fb-4c63-bc4f-db9f24484982"
   },
   "outputs": [
    {
     "name": "stdout",
     "output_type": "stream",
     "text": [
      "Archive:  gun_dataset.zip\n",
      "  inflating: data.yaml               \n",
      "   creating: train/\n",
      "   creating: train/images/\n",
      "  inflating: train/images/armas (1).jpg  \n",
      "  inflating: train/images/armas (2).jpg  \n",
      "  inflating: train/images/armas (3).jpg  \n",
      "  inflating: train/images/armas (4).jpg  \n",
      "  inflating: train/images/armas (5).jpg  \n",
      "  inflating: train/images/armas (10).jpg  \n",
      "  inflating: train/images/armas (11).jpg  \n",
      "  inflating: train/images/armas (12).jpg  \n",
      "  inflating: train/images/armas (13).jpg  \n",
      "  inflating: train/images/armas (14).jpg  \n",
      "  inflating: train/images/armas (15).jpg  \n",
      "  inflating: train/images/armas (16).jpg  \n",
      "  inflating: train/images/armas (17).jpg  \n",
      "  inflating: train/images/armas (18).jpg  \n",
      "  inflating: train/images/armas (19).jpg  \n",
      "  inflating: train/images/armas (20).jpg  \n",
      "  inflating: train/images/armas (21).jpg  \n",
      "  inflating: train/images/armas (22).jpg  \n",
      "  inflating: train/images/armas (23).jpg  \n",
      "  inflating: train/images/armas (24).jpg  \n",
      "  inflating: train/images/armas (25).jpg  \n",
      "  inflating: train/images/armas (26).jpg  \n",
      "  inflating: train/images/armas (27).jpg  \n",
      "  inflating: train/images/armas (28).jpg  \n",
      "  inflating: train/images/armas (29).jpg  \n",
      "  inflating: train/images/armas (30).jpg  \n",
      "  inflating: train/images/armas (31).jpg  \n",
      "  inflating: train/images/armas (32).jpg  \n",
      "  inflating: train/images/armas (33).jpg  \n",
      "  inflating: train/images/armas (34).jpg  \n",
      "  inflating: train/images/armas (35).jpg  \n",
      "  inflating: train/images/armas (36).jpg  \n",
      "  inflating: train/images/armas (37).jpg  \n",
      "  inflating: train/images/armas (38).jpg  \n",
      "  inflating: train/images/armas (39).jpg  \n",
      "  inflating: train/images/armas (40).jpg  \n",
      "  inflating: train/images/armas (41).jpg  \n",
      "  inflating: train/images/armas (42).jpg  \n",
      "  inflating: train/images/armas (43).jpg  \n",
      "  inflating: train/images/armas (44).jpg  \n",
      "  inflating: train/images/armas (45).jpg  \n",
      "  inflating: train/images/armas (46).jpg  \n",
      "  inflating: train/images/armas (47).jpg  \n",
      "  inflating: train/images/armas (48).jpg  \n",
      "  inflating: train/images/armas (49).jpg  \n",
      "  inflating: train/images/armas (50).jpg  \n",
      "  inflating: train/images/armas (51).jpg  \n",
      "  inflating: train/images/armas (52).jpg  \n",
      "  inflating: train/images/armas (53).jpg  \n",
      "  inflating: train/images/armas (54).jpg  \n",
      "   creating: train/labels/\n",
      "  inflating: train/labels/armas (1).txt  \n",
      "  inflating: train/labels/armas (2).txt  \n",
      "  inflating: train/labels/armas (3).txt  \n",
      "  inflating: train/labels/armas (4).txt  \n",
      "  inflating: train/labels/armas (5).txt  \n",
      "  inflating: train/labels/armas (10).txt  \n",
      "  inflating: train/labels/armas (11).txt  \n",
      "  inflating: train/labels/armas (12).txt  \n",
      "  inflating: train/labels/armas (13).txt  \n",
      "  inflating: train/labels/armas (14).txt  \n",
      "  inflating: train/labels/armas (15).txt  \n",
      "  inflating: train/labels/armas (16).txt  \n",
      "  inflating: train/labels/armas (17).txt  \n",
      "  inflating: train/labels/armas (18).txt  \n",
      "  inflating: train/labels/armas (19).txt  \n",
      "  inflating: train/labels/armas (20).txt  \n",
      "  inflating: train/labels/armas (21).txt  \n",
      "  inflating: train/labels/armas (22).txt  \n",
      "  inflating: train/labels/armas (23).txt  \n",
      "  inflating: train/labels/armas (24).txt  \n",
      "  inflating: train/labels/armas (25).txt  \n",
      "  inflating: train/labels/armas (26).txt  \n",
      "  inflating: train/labels/armas (27).txt  \n",
      "  inflating: train/labels/armas (28).txt  \n",
      "  inflating: train/labels/armas (29).txt  \n",
      "  inflating: train/labels/armas (30).txt  \n",
      "  inflating: train/labels/armas (31).txt  \n",
      "  inflating: train/labels/armas (32).txt  \n",
      "  inflating: train/labels/armas (33).txt  \n",
      "  inflating: train/labels/armas (34).txt  \n",
      "  inflating: train/labels/armas (35).txt  \n",
      "  inflating: train/labels/armas (36).txt  \n",
      "  inflating: train/labels/armas (37).txt  \n",
      "  inflating: train/labels/armas (38).txt  \n",
      "  inflating: train/labels/armas (39).txt  \n",
      "  inflating: train/labels/armas (40).txt  \n",
      "  inflating: train/labels/armas (41).txt  \n",
      "  inflating: train/labels/armas (42).txt  \n",
      "  inflating: train/labels/armas (43).txt  \n",
      "  inflating: train/labels/armas (44).txt  \n",
      "  inflating: train/labels/armas (45).txt  \n",
      "  inflating: train/labels/armas (46).txt  \n",
      "  inflating: train/labels/armas (47).txt  \n",
      "  inflating: train/labels/armas (48).txt  \n",
      "  inflating: train/labels/armas (49).txt  \n",
      "  inflating: train/labels/armas (50).txt  \n",
      "  inflating: train/labels/armas (51).txt  \n",
      "  inflating: train/labels/armas (52).txt  \n",
      "  inflating: train/labels/armas (53).txt  \n",
      "  inflating: train/labels/armas (54).txt  \n",
      "   creating: val/\n",
      "   creating: val/images/\n",
      "  inflating: val/images/armas (55).jpg  \n",
      "  inflating: val/images/armas (56).jpg  \n",
      "  inflating: val/images/armas (57).jpg  \n",
      "  inflating: val/images/armas (58).jpg  \n",
      "  inflating: val/images/armas (70).jpg  \n",
      "  inflating: val/images/armas (74).jpg  \n",
      "  inflating: val/images/armas (82).jpg  \n",
      "  inflating: val/images/armas (85).jpg  \n",
      "  inflating: val/images/armas (100).jpg  \n",
      "   creating: val/labels/\n",
      "  inflating: val/labels/armas (55).txt  \n",
      "  inflating: val/labels/armas (56).txt  \n",
      "  inflating: val/labels/armas (57).txt  \n",
      "  inflating: val/labels/armas (58).txt  \n",
      "  inflating: val/labels/armas (70).txt  \n",
      "  inflating: val/labels/armas (74).txt  \n",
      "  inflating: val/labels/armas (82).txt  \n",
      "  inflating: val/labels/armas (85).txt  \n",
      "  inflating: val/labels/armas (100).txt  \n"
     ]
    }
   ],
   "source": [
    "!unzip gun_dataset.zip"
   ]
  },
  {
   "cell_type": "code",
   "execution_count": 5,
   "metadata": {
    "id": "KYaMa_nt24fM"
   },
   "outputs": [],
   "source": [
    "import yaml\n",
    "with open(\"data.yaml\", 'r') as stream:\n",
    "  num_classes = str(yaml.safe_load(stream)['nc'])"
   ]
  },
  {
   "cell_type": "code",
   "execution_count": 6,
   "metadata": {
    "colab": {
     "base_uri": "https://localhost:8080/"
    },
    "id": "JzjtEpaQ27YX",
    "outputId": "effa4d66-568c-4a5a-81da-3d190fa3746e"
   },
   "outputs": [
    {
     "name": "stdout",
     "output_type": "stream",
     "text": [
      "Collecting ultralytics\n",
      "  Downloading ultralytics-8.3.53-py3-none-any.whl.metadata (35 kB)\n",
      "Requirement already satisfied: numpy>=1.23.0 in /usr/local/lib/python3.10/dist-packages (from ultralytics) (1.26.4)\n",
      "Requirement already satisfied: matplotlib>=3.3.0 in /usr/local/lib/python3.10/dist-packages (from ultralytics) (3.8.0)\n",
      "Requirement already satisfied: opencv-python>=4.6.0 in /usr/local/lib/python3.10/dist-packages (from ultralytics) (4.10.0.84)\n",
      "Requirement already satisfied: pillow>=7.1.2 in /usr/local/lib/python3.10/dist-packages (from ultralytics) (11.0.0)\n",
      "Requirement already satisfied: pyyaml>=5.3.1 in /usr/local/lib/python3.10/dist-packages (from ultralytics) (6.0.2)\n",
      "Requirement already satisfied: requests>=2.23.0 in /usr/local/lib/python3.10/dist-packages (from ultralytics) (2.32.3)\n",
      "Requirement already satisfied: scipy>=1.4.1 in /usr/local/lib/python3.10/dist-packages (from ultralytics) (1.13.1)\n",
      "Requirement already satisfied: torch>=1.8.0 in /usr/local/lib/python3.10/dist-packages (from ultralytics) (2.5.1+cu121)\n",
      "Requirement already satisfied: torchvision>=0.9.0 in /usr/local/lib/python3.10/dist-packages (from ultralytics) (0.20.1+cu121)\n",
      "Requirement already satisfied: tqdm>=4.64.0 in /usr/local/lib/python3.10/dist-packages (from ultralytics) (4.67.1)\n",
      "Requirement already satisfied: psutil in /usr/local/lib/python3.10/dist-packages (from ultralytics) (5.9.5)\n",
      "Requirement already satisfied: py-cpuinfo in /usr/local/lib/python3.10/dist-packages (from ultralytics) (9.0.0)\n",
      "Requirement already satisfied: pandas>=1.1.4 in /usr/local/lib/python3.10/dist-packages (from ultralytics) (2.2.2)\n",
      "Requirement already satisfied: seaborn>=0.11.0 in /usr/local/lib/python3.10/dist-packages (from ultralytics) (0.13.2)\n",
      "Collecting ultralytics-thop>=2.0.0 (from ultralytics)\n",
      "  Downloading ultralytics_thop-2.0.13-py3-none-any.whl.metadata (9.4 kB)\n",
      "Requirement already satisfied: contourpy>=1.0.1 in /usr/local/lib/python3.10/dist-packages (from matplotlib>=3.3.0->ultralytics) (1.3.1)\n",
      "Requirement already satisfied: cycler>=0.10 in /usr/local/lib/python3.10/dist-packages (from matplotlib>=3.3.0->ultralytics) (0.12.1)\n",
      "Requirement already satisfied: fonttools>=4.22.0 in /usr/local/lib/python3.10/dist-packages (from matplotlib>=3.3.0->ultralytics) (4.55.3)\n",
      "Requirement already satisfied: kiwisolver>=1.0.1 in /usr/local/lib/python3.10/dist-packages (from matplotlib>=3.3.0->ultralytics) (1.4.7)\n",
      "Requirement already satisfied: packaging>=20.0 in /usr/local/lib/python3.10/dist-packages (from matplotlib>=3.3.0->ultralytics) (24.2)\n",
      "Requirement already satisfied: pyparsing>=2.3.1 in /usr/local/lib/python3.10/dist-packages (from matplotlib>=3.3.0->ultralytics) (3.2.0)\n",
      "Requirement already satisfied: python-dateutil>=2.7 in /usr/local/lib/python3.10/dist-packages (from matplotlib>=3.3.0->ultralytics) (2.8.2)\n",
      "Requirement already satisfied: pytz>=2020.1 in /usr/local/lib/python3.10/dist-packages (from pandas>=1.1.4->ultralytics) (2024.2)\n",
      "Requirement already satisfied: tzdata>=2022.7 in /usr/local/lib/python3.10/dist-packages (from pandas>=1.1.4->ultralytics) (2024.2)\n",
      "Requirement already satisfied: charset-normalizer<4,>=2 in /usr/local/lib/python3.10/dist-packages (from requests>=2.23.0->ultralytics) (3.4.0)\n",
      "Requirement already satisfied: idna<4,>=2.5 in /usr/local/lib/python3.10/dist-packages (from requests>=2.23.0->ultralytics) (3.10)\n",
      "Requirement already satisfied: urllib3<3,>=1.21.1 in /usr/local/lib/python3.10/dist-packages (from requests>=2.23.0->ultralytics) (2.2.3)\n",
      "Requirement already satisfied: certifi>=2017.4.17 in /usr/local/lib/python3.10/dist-packages (from requests>=2.23.0->ultralytics) (2024.12.14)\n",
      "Requirement already satisfied: filelock in /usr/local/lib/python3.10/dist-packages (from torch>=1.8.0->ultralytics) (3.16.1)\n",
      "Requirement already satisfied: typing-extensions>=4.8.0 in /usr/local/lib/python3.10/dist-packages (from torch>=1.8.0->ultralytics) (4.12.2)\n",
      "Requirement already satisfied: networkx in /usr/local/lib/python3.10/dist-packages (from torch>=1.8.0->ultralytics) (3.4.2)\n",
      "Requirement already satisfied: jinja2 in /usr/local/lib/python3.10/dist-packages (from torch>=1.8.0->ultralytics) (3.1.4)\n",
      "Requirement already satisfied: fsspec in /usr/local/lib/python3.10/dist-packages (from torch>=1.8.0->ultralytics) (2024.10.0)\n",
      "Requirement already satisfied: sympy==1.13.1 in /usr/local/lib/python3.10/dist-packages (from torch>=1.8.0->ultralytics) (1.13.1)\n",
      "Requirement already satisfied: mpmath<1.4,>=1.1.0 in /usr/local/lib/python3.10/dist-packages (from sympy==1.13.1->torch>=1.8.0->ultralytics) (1.3.0)\n",
      "Requirement already satisfied: six>=1.5 in /usr/local/lib/python3.10/dist-packages (from python-dateutil>=2.7->matplotlib>=3.3.0->ultralytics) (1.17.0)\n",
      "Requirement already satisfied: MarkupSafe>=2.0 in /usr/local/lib/python3.10/dist-packages (from jinja2->torch>=1.8.0->ultralytics) (3.0.2)\n",
      "Downloading ultralytics-8.3.53-py3-none-any.whl (902 kB)\n",
      "\u001b[2K   \u001b[90m━━━━━━━━━━━━━━━━━━━━━━━━━━━━━━━━━━━━━━━━\u001b[0m \u001b[32m902.2/902.2 kB\u001b[0m \u001b[31m24.1 MB/s\u001b[0m eta \u001b[36m0:00:00\u001b[0m\n",
      "\u001b[?25hDownloading ultralytics_thop-2.0.13-py3-none-any.whl (26 kB)\n",
      "Installing collected packages: ultralytics-thop, ultralytics\n",
      "Successfully installed ultralytics-8.3.53 ultralytics-thop-2.0.13\n"
     ]
    }
   ],
   "source": [
    "!pip install ultralytics\n"
   ]
  },
  {
   "cell_type": "code",
   "execution_count": 10,
   "metadata": {
    "colab": {
     "base_uri": "https://localhost:8080/"
    },
    "id": "VNdwkRfg3Hso",
    "outputId": "1520df2f-460b-4cfd-dc33-e6f510550305"
   },
   "outputs": [
    {
     "name": "stdout",
     "output_type": "stream",
     "text": [
      "Ultralytics 8.3.53 🚀 Python-3.10.12 torch-2.5.1+cu121 CUDA:0 (Tesla T4, 15102MiB)\n",
      "\u001b[34m\u001b[1mengine/trainer: \u001b[0mtask=detect, mode=train, model=jameslahm/yolov10s.pt, data=/content/data.yaml, epochs=50, time=None, patience=100, batch=16, imgsz=640, save=True, save_period=-1, cache=False, device=None, workers=4, project=None, name=yolov10-custom4, exist_ok=False, pretrained=True, optimizer=auto, verbose=True, seed=0, deterministic=True, single_cls=False, rect=False, cos_lr=False, close_mosaic=10, resume=False, amp=True, fraction=1.0, profile=False, freeze=None, multi_scale=False, overlap_mask=True, mask_ratio=4, dropout=0.0, val=True, split=val, save_json=False, save_hybrid=False, conf=None, iou=0.7, max_det=300, half=False, dnn=False, plots=True, source=None, vid_stride=1, stream_buffer=False, visualize=False, augment=False, agnostic_nms=False, classes=None, retina_masks=False, embed=None, show=False, save_frames=False, save_txt=False, save_conf=False, save_crop=False, show_labels=True, show_conf=True, show_boxes=True, line_width=None, format=torchscript, keras=False, optimize=False, int8=False, dynamic=False, simplify=True, opset=None, workspace=None, nms=False, lr0=0.01, lrf=0.01, momentum=0.937, weight_decay=0.0005, warmup_epochs=3.0, warmup_momentum=0.8, warmup_bias_lr=0.1, box=7.5, cls=0.5, dfl=1.5, pose=12.0, kobj=1.0, nbs=64, hsv_h=0.015, hsv_s=0.7, hsv_v=0.4, degrees=0.0, translate=0.1, scale=0.5, shear=0.0, perspective=0.0, flipud=0.0, fliplr=0.5, bgr=0.0, mosaic=1.0, mixup=0.0, copy_paste=0.0, copy_paste_mode=flip, auto_augment=randaugment, erasing=0.4, crop_fraction=1.0, cfg=None, tracker=botsort.yaml, save_dir=runs/detect/yolov10-custom4\n",
      "Overriding model.yaml nc=80 with nc=1\n",
      "\n",
      "                   from  n    params  module                                       arguments                     \n",
      "  0                  -1  1       928  ultralytics.nn.modules.conv.Conv             [3, 32, 3, 2]                 \n",
      "  1                  -1  1     18560  ultralytics.nn.modules.conv.Conv             [32, 64, 3, 2]                \n",
      "  2                  -1  1     29056  ultralytics.nn.modules.block.C2f             [64, 64, 1, True]             \n",
      "  3                  -1  1     73984  ultralytics.nn.modules.conv.Conv             [64, 128, 3, 2]               \n",
      "  4                  -1  2    197632  ultralytics.nn.modules.block.C2f             [128, 128, 2, True]           \n",
      "  5                  -1  1     36096  ultralytics.nn.modules.block.SCDown          [128, 256, 3, 2]              \n",
      "  6                  -1  2    788480  ultralytics.nn.modules.block.C2f             [256, 256, 2, True]           \n",
      "  7                  -1  1    137728  ultralytics.nn.modules.block.SCDown          [256, 512, 3, 2]              \n",
      "  8                  -1  1    958464  ultralytics.nn.modules.block.C2fCIB          [512, 512, 1, True, True]     \n",
      "  9                  -1  1    656896  ultralytics.nn.modules.block.SPPF            [512, 512, 5]                 \n",
      " 10                  -1  1    990976  ultralytics.nn.modules.block.PSA             [512, 512]                    \n",
      " 11                  -1  1         0  torch.nn.modules.upsampling.Upsample         [None, 2, 'nearest']          \n",
      " 12             [-1, 6]  1         0  ultralytics.nn.modules.conv.Concat           [1]                           \n",
      " 13                  -1  1    591360  ultralytics.nn.modules.block.C2f             [768, 256, 1]                 \n",
      " 14                  -1  1         0  torch.nn.modules.upsampling.Upsample         [None, 2, 'nearest']          \n",
      " 15             [-1, 4]  1         0  ultralytics.nn.modules.conv.Concat           [1]                           \n",
      " 16                  -1  1    148224  ultralytics.nn.modules.block.C2f             [384, 128, 1]                 \n",
      " 17                  -1  1    147712  ultralytics.nn.modules.conv.Conv             [128, 128, 3, 2]              \n",
      " 18            [-1, 13]  1         0  ultralytics.nn.modules.conv.Concat           [1]                           \n",
      " 19                  -1  1    493056  ultralytics.nn.modules.block.C2f             [384, 256, 1]                 \n",
      " 20                  -1  1     68864  ultralytics.nn.modules.block.SCDown          [256, 256, 3, 2]              \n",
      " 21            [-1, 10]  1         0  ultralytics.nn.modules.conv.Concat           [1]                           \n",
      " 22                  -1  1   1089536  ultralytics.nn.modules.block.C2fCIB          [768, 512, 1, True, True]     \n",
      " 23        [16, 19, 22]  1   1639574  ultralytics.nn.modules.head.v10Detect        [1, [128, 256, 512]]          \n",
      "YOLOv10s summary: 402 layers, 8,067,126 parameters, 8,067,110 gradients, 24.8 GFLOPs\n",
      "\n",
      "Transferred 607/619 items from pretrained weights\n",
      "\u001b[34m\u001b[1mTensorBoard: \u001b[0mStart with 'tensorboard --logdir runs/detect/yolov10-custom4', view at http://localhost:6006/\n",
      "Freezing layer 'model.23.dfl.conv.weight'\n",
      "\u001b[34m\u001b[1mAMP: \u001b[0mrunning Automatic Mixed Precision (AMP) checks...\n",
      "\u001b[34m\u001b[1mAMP: \u001b[0mchecks passed ✅\n"
     ]
    },
    {
     "name": "stderr",
     "output_type": "stream",
     "text": [
      "\u001b[34m\u001b[1mtrain: \u001b[0mScanning /content/train/labels.cache... 50 images, 0 backgrounds, 0 corrupt: 100%|██████████| 50/50 [00:00<?, ?it/s]"
     ]
    },
    {
     "name": "stdout",
     "output_type": "stream",
     "text": [
      "\u001b[34m\u001b[1malbumentations: \u001b[0mBlur(p=0.01, blur_limit=(3, 7)), MedianBlur(p=0.01, blur_limit=(3, 7)), ToGray(p=0.01, num_output_channels=3, method='weighted_average'), CLAHE(p=0.01, clip_limit=(1.0, 4.0), tile_grid_size=(8, 8))\n"
     ]
    },
    {
     "name": "stderr",
     "output_type": "stream",
     "text": [
      "\n",
      "\u001b[34m\u001b[1mval: \u001b[0mScanning /content/val/labels.cache... 9 images, 0 backgrounds, 0 corrupt: 100%|██████████| 9/9 [00:00<?, ?it/s]"
     ]
    },
    {
     "name": "stdout",
     "output_type": "stream",
     "text": [
      "\u001b[34m\u001b[1mval: \u001b[0mWARNING ⚠️ /content/val/images/armas (55).jpg: corrupt JPEG restored and saved\n"
     ]
    },
    {
     "name": "stderr",
     "output_type": "stream",
     "text": [
      "\n"
     ]
    },
    {
     "name": "stdout",
     "output_type": "stream",
     "text": [
      "Plotting labels to runs/detect/yolov10-custom4/labels.jpg... \n",
      "\u001b[34m\u001b[1moptimizer:\u001b[0m 'optimizer=auto' found, ignoring 'lr0=0.01' and 'momentum=0.937' and determining best 'optimizer', 'lr0' and 'momentum' automatically... \n",
      "\u001b[34m\u001b[1moptimizer:\u001b[0m AdamW(lr=0.002, momentum=0.9) with parameter groups 99 weight(decay=0.0), 112 weight(decay=0.0005), 111 bias(decay=0.0)\n",
      "\u001b[34m\u001b[1mTensorBoard: \u001b[0mmodel graph visualization added ✅\n",
      "Image sizes 640 train, 640 val\n",
      "Using 2 dataloader workers\n",
      "Logging results to \u001b[1mruns/detect/yolov10-custom4\u001b[0m\n",
      "Starting training for 50 epochs...\n",
      "\n",
      "      Epoch    GPU_mem   box_loss   cls_loss   dfl_loss  Instances       Size\n"
     ]
    },
    {
     "name": "stderr",
     "output_type": "stream",
     "text": [
      "       1/50      5.52G      4.235      52.31      4.114          7        640: 100%|██████████| 4/4 [00:03<00:00,  1.30it/s]\n",
      "                 Class     Images  Instances      Box(P          R      mAP50  mAP50-95): 100%|██████████| 1/1 [00:00<00:00,  3.14it/s]"
     ]
    },
    {
     "name": "stdout",
     "output_type": "stream",
     "text": [
      "                   all          9         11      0.102     0.0909     0.0405     0.0238\n"
     ]
    },
    {
     "name": "stderr",
     "output_type": "stream",
     "text": [
      "\n"
     ]
    },
    {
     "name": "stdout",
     "output_type": "stream",
     "text": [
      "\n",
      "      Epoch    GPU_mem   box_loss   cls_loss   dfl_loss  Instances       Size\n"
     ]
    },
    {
     "name": "stderr",
     "output_type": "stream",
     "text": [
      "       2/50      5.29G      4.143      53.51      4.144          5        640: 100%|██████████| 4/4 [00:01<00:00,  2.42it/s]\n",
      "                 Class     Images  Instances      Box(P          R      mAP50  mAP50-95): 100%|██████████| 1/1 [00:00<00:00,  9.17it/s]"
     ]
    },
    {
     "name": "stdout",
     "output_type": "stream",
     "text": [
      "                   all          9         11     0.0857      0.182     0.0434     0.0252\n"
     ]
    },
    {
     "name": "stderr",
     "output_type": "stream",
     "text": [
      "\n"
     ]
    },
    {
     "name": "stdout",
     "output_type": "stream",
     "text": [
      "\n",
      "      Epoch    GPU_mem   box_loss   cls_loss   dfl_loss  Instances       Size\n"
     ]
    },
    {
     "name": "stderr",
     "output_type": "stream",
     "text": [
      "       3/50      5.28G      4.794      70.95      4.138          4        640: 100%|██████████| 4/4 [00:01<00:00,  2.08it/s]\n",
      "                 Class     Images  Instances      Box(P          R      mAP50  mAP50-95): 100%|██████████| 1/1 [00:00<00:00,  8.12it/s]"
     ]
    },
    {
     "name": "stdout",
     "output_type": "stream",
     "text": [
      "                   all          9         11     0.0284      0.273     0.0121    0.00323\n"
     ]
    },
    {
     "name": "stderr",
     "output_type": "stream",
     "text": [
      "\n"
     ]
    },
    {
     "name": "stdout",
     "output_type": "stream",
     "text": [
      "\n",
      "      Epoch    GPU_mem   box_loss   cls_loss   dfl_loss  Instances       Size\n"
     ]
    },
    {
     "name": "stderr",
     "output_type": "stream",
     "text": [
      "       4/50      5.35G      4.573      51.32      4.181          4        640: 100%|██████████| 4/4 [00:01<00:00,  2.12it/s]\n",
      "                 Class     Images  Instances      Box(P          R      mAP50  mAP50-95): 100%|██████████| 1/1 [00:00<00:00,  8.83it/s]"
     ]
    },
    {
     "name": "stdout",
     "output_type": "stream",
     "text": [
      "                   all          9         11     0.0269     0.0909    0.00675    0.00314\n"
     ]
    },
    {
     "name": "stderr",
     "output_type": "stream",
     "text": [
      "\n"
     ]
    },
    {
     "name": "stdout",
     "output_type": "stream",
     "text": [
      "\n",
      "      Epoch    GPU_mem   box_loss   cls_loss   dfl_loss  Instances       Size\n"
     ]
    },
    {
     "name": "stderr",
     "output_type": "stream",
     "text": [
      "       5/50      5.35G      3.956      35.53       3.82          4        640: 100%|██████████| 4/4 [00:01<00:00,  3.20it/s]\n",
      "                 Class     Images  Instances      Box(P          R      mAP50  mAP50-95): 100%|██████████| 1/1 [00:00<00:00,  8.44it/s]"
     ]
    },
    {
     "name": "stdout",
     "output_type": "stream",
     "text": [
      "                   all          9         11     0.0304      0.182      0.014    0.00606\n"
     ]
    },
    {
     "name": "stderr",
     "output_type": "stream",
     "text": [
      "\n"
     ]
    },
    {
     "name": "stdout",
     "output_type": "stream",
     "text": [
      "\n",
      "      Epoch    GPU_mem   box_loss   cls_loss   dfl_loss  Instances       Size\n"
     ]
    },
    {
     "name": "stderr",
     "output_type": "stream",
     "text": [
      "       6/50      5.37G      3.482       25.9      3.738          3        640: 100%|██████████| 4/4 [00:01<00:00,  3.19it/s]\n",
      "                 Class     Images  Instances      Box(P          R      mAP50  mAP50-95): 100%|██████████| 1/1 [00:00<00:00,  9.28it/s]"
     ]
    },
    {
     "name": "stdout",
     "output_type": "stream",
     "text": [
      "                   all          9         11      0.015     0.0909    0.00397    0.00136\n"
     ]
    },
    {
     "name": "stderr",
     "output_type": "stream",
     "text": [
      "\n"
     ]
    },
    {
     "name": "stdout",
     "output_type": "stream",
     "text": [
      "\n",
      "      Epoch    GPU_mem   box_loss   cls_loss   dfl_loss  Instances       Size\n"
     ]
    },
    {
     "name": "stderr",
     "output_type": "stream",
     "text": [
      "       7/50      5.35G      3.335      20.08      3.642          3        640: 100%|██████████| 4/4 [00:01<00:00,  3.29it/s]\n",
      "                 Class     Images  Instances      Box(P          R      mAP50  mAP50-95): 100%|██████████| 1/1 [00:00<00:00,  9.11it/s]"
     ]
    },
    {
     "name": "stdout",
     "output_type": "stream",
     "text": [
      "                   all          9         11     0.0207     0.0909    0.00875    0.00257\n"
     ]
    },
    {
     "name": "stderr",
     "output_type": "stream",
     "text": [
      "\n"
     ]
    },
    {
     "name": "stdout",
     "output_type": "stream",
     "text": [
      "\n",
      "      Epoch    GPU_mem   box_loss   cls_loss   dfl_loss  Instances       Size\n"
     ]
    },
    {
     "name": "stderr",
     "output_type": "stream",
     "text": [
      "       8/50      5.37G      3.545      14.11      3.473          6        640: 100%|██████████| 4/4 [00:01<00:00,  3.24it/s]\n",
      "                 Class     Images  Instances      Box(P          R      mAP50  mAP50-95): 100%|██████████| 1/1 [00:00<00:00,  8.86it/s]"
     ]
    },
    {
     "name": "stdout",
     "output_type": "stream",
     "text": [
      "                   all          9         11     0.0287     0.0909    0.00616    0.00208\n"
     ]
    },
    {
     "name": "stderr",
     "output_type": "stream",
     "text": [
      "\n"
     ]
    },
    {
     "name": "stdout",
     "output_type": "stream",
     "text": [
      "\n",
      "      Epoch    GPU_mem   box_loss   cls_loss   dfl_loss  Instances       Size\n"
     ]
    },
    {
     "name": "stderr",
     "output_type": "stream",
     "text": [
      "       9/50      5.35G      3.314      9.981      3.403          7        640: 100%|██████████| 4/4 [00:02<00:00,  1.99it/s]\n",
      "                 Class     Images  Instances      Box(P          R      mAP50  mAP50-95): 100%|██████████| 1/1 [00:00<00:00,  6.09it/s]\n"
     ]
    },
    {
     "name": "stdout",
     "output_type": "stream",
     "text": [
      "                   all          9         11    0.00261     0.0909    0.00109   0.000539\n",
      "\n",
      "      Epoch    GPU_mem   box_loss   cls_loss   dfl_loss  Instances       Size\n"
     ]
    },
    {
     "name": "stderr",
     "output_type": "stream",
     "text": [
      "      10/50      5.37G      3.289      8.138      3.377          6        640: 100%|██████████| 4/4 [00:01<00:00,  2.09it/s]\n",
      "                 Class     Images  Instances      Box(P          R      mAP50  mAP50-95): 100%|██████████| 1/1 [00:00<00:00,  5.16it/s]\n"
     ]
    },
    {
     "name": "stdout",
     "output_type": "stream",
     "text": [
      "                   all          9         11    0.00841      0.182    0.00494    0.00185\n",
      "\n",
      "      Epoch    GPU_mem   box_loss   cls_loss   dfl_loss  Instances       Size\n"
     ]
    },
    {
     "name": "stderr",
     "output_type": "stream",
     "text": [
      "      11/50      5.35G      3.536      7.185      3.434          6        640: 100%|██████████| 4/4 [00:01<00:00,  2.07it/s]\n",
      "                 Class     Images  Instances      Box(P          R      mAP50  mAP50-95): 100%|██████████| 1/1 [00:00<00:00,  6.61it/s]\n"
     ]
    },
    {
     "name": "stdout",
     "output_type": "stream",
     "text": [
      "                   all          9         11     0.0142      0.273    0.00632    0.00219\n",
      "\n",
      "      Epoch    GPU_mem   box_loss   cls_loss   dfl_loss  Instances       Size\n"
     ]
    },
    {
     "name": "stderr",
     "output_type": "stream",
     "text": [
      "      12/50      5.37G      3.759      7.824      3.729          1        640: 100%|██████████| 4/4 [00:01<00:00,  3.21it/s]\n",
      "                 Class     Images  Instances      Box(P          R      mAP50  mAP50-95): 100%|██████████| 1/1 [00:00<00:00,  9.10it/s]"
     ]
    },
    {
     "name": "stdout",
     "output_type": "stream",
     "text": [
      "                   all          9         11    0.00784     0.0909    0.00271   0.000893\n"
     ]
    },
    {
     "name": "stderr",
     "output_type": "stream",
     "text": [
      "\n"
     ]
    },
    {
     "name": "stdout",
     "output_type": "stream",
     "text": [
      "\n",
      "      Epoch    GPU_mem   box_loss   cls_loss   dfl_loss  Instances       Size\n"
     ]
    },
    {
     "name": "stderr",
     "output_type": "stream",
     "text": [
      "      13/50      5.35G      3.746      5.948      3.676          7        640: 100%|██████████| 4/4 [00:01<00:00,  3.22it/s]\n",
      "                 Class     Images  Instances      Box(P          R      mAP50  mAP50-95): 100%|██████████| 1/1 [00:00<00:00,  8.79it/s]"
     ]
    },
    {
     "name": "stdout",
     "output_type": "stream",
     "text": [
      "                   all          9         11     0.0781     0.0909      0.105     0.0511\n"
     ]
    },
    {
     "name": "stderr",
     "output_type": "stream",
     "text": [
      "\n"
     ]
    },
    {
     "name": "stdout",
     "output_type": "stream",
     "text": [
      "\n",
      "      Epoch    GPU_mem   box_loss   cls_loss   dfl_loss  Instances       Size\n"
     ]
    },
    {
     "name": "stderr",
     "output_type": "stream",
     "text": [
      "      14/50      5.39G      3.748      5.248      3.696          5        640: 100%|██████████| 4/4 [00:01<00:00,  3.30it/s]\n",
      "                 Class     Images  Instances      Box(P          R      mAP50  mAP50-95): 100%|██████████| 1/1 [00:00<00:00,  9.25it/s]"
     ]
    },
    {
     "name": "stdout",
     "output_type": "stream",
     "text": [
      "                   all          9         11       0.16     0.0909     0.0252     0.0174\n"
     ]
    },
    {
     "name": "stderr",
     "output_type": "stream",
     "text": [
      "\n"
     ]
    },
    {
     "name": "stdout",
     "output_type": "stream",
     "text": [
      "\n",
      "      Epoch    GPU_mem   box_loss   cls_loss   dfl_loss  Instances       Size\n"
     ]
    },
    {
     "name": "stderr",
     "output_type": "stream",
     "text": [
      "      15/50      5.38G      3.682      5.317      3.444          5        640: 100%|██████████| 4/4 [00:01<00:00,  3.16it/s]\n",
      "                 Class     Images  Instances      Box(P          R      mAP50  mAP50-95): 100%|██████████| 1/1 [00:00<00:00,  7.60it/s]"
     ]
    },
    {
     "name": "stdout",
     "output_type": "stream",
     "text": [
      "                   all          9         11      0.255      0.182      0.086     0.0164\n"
     ]
    },
    {
     "name": "stderr",
     "output_type": "stream",
     "text": [
      "\n"
     ]
    },
    {
     "name": "stdout",
     "output_type": "stream",
     "text": [
      "\n",
      "      Epoch    GPU_mem   box_loss   cls_loss   dfl_loss  Instances       Size\n"
     ]
    },
    {
     "name": "stderr",
     "output_type": "stream",
     "text": [
      "      16/50      5.35G      3.787       5.39      3.524          3        640: 100%|██████████| 4/4 [00:01<00:00,  2.51it/s]\n",
      "                 Class     Images  Instances      Box(P          R      mAP50  mAP50-95): 100%|██████████| 1/1 [00:00<00:00,  6.53it/s]\n"
     ]
    },
    {
     "name": "stdout",
     "output_type": "stream",
     "text": [
      "                   all          9         11     0.0683      0.273     0.0336     0.0152\n",
      "\n",
      "      Epoch    GPU_mem   box_loss   cls_loss   dfl_loss  Instances       Size\n"
     ]
    },
    {
     "name": "stderr",
     "output_type": "stream",
     "text": [
      "      17/50      5.39G       3.59      4.904      3.529          4        640: 100%|██████████| 4/4 [00:01<00:00,  2.21it/s]\n",
      "                 Class     Images  Instances      Box(P          R      mAP50  mAP50-95): 100%|██████████| 1/1 [00:00<00:00,  8.09it/s]\n"
     ]
    },
    {
     "name": "stdout",
     "output_type": "stream",
     "text": [
      "                   all          9         11      0.039     0.0909    0.00653   0.000828\n",
      "\n",
      "      Epoch    GPU_mem   box_loss   cls_loss   dfl_loss  Instances       Size\n"
     ]
    },
    {
     "name": "stderr",
     "output_type": "stream",
     "text": [
      "      18/50      5.38G      3.794      5.003      3.752          5        640: 100%|██████████| 4/4 [00:01<00:00,  2.86it/s]\n",
      "                 Class     Images  Instances      Box(P          R      mAP50  mAP50-95): 100%|██████████| 1/1 [00:00<00:00,  7.39it/s]"
     ]
    },
    {
     "name": "stdout",
     "output_type": "stream",
     "text": [
      "                   all          9         11     0.0162      0.364     0.0145    0.00233\n"
     ]
    },
    {
     "name": "stderr",
     "output_type": "stream",
     "text": [
      "\n"
     ]
    },
    {
     "name": "stdout",
     "output_type": "stream",
     "text": [
      "\n",
      "      Epoch    GPU_mem   box_loss   cls_loss   dfl_loss  Instances       Size\n"
     ]
    },
    {
     "name": "stderr",
     "output_type": "stream",
     "text": [
      "      19/50      5.35G      3.727      5.378      3.815          8        640: 100%|██████████| 4/4 [00:01<00:00,  3.27it/s]\n",
      "                 Class     Images  Instances      Box(P          R      mAP50  mAP50-95): 100%|██████████| 1/1 [00:00<00:00,  9.24it/s]"
     ]
    },
    {
     "name": "stdout",
     "output_type": "stream",
     "text": [
      "                   all          9         11     0.0068      0.182    0.00748   0.000748\n"
     ]
    },
    {
     "name": "stderr",
     "output_type": "stream",
     "text": [
      "\n"
     ]
    },
    {
     "name": "stdout",
     "output_type": "stream",
     "text": [
      "\n",
      "      Epoch    GPU_mem   box_loss   cls_loss   dfl_loss  Instances       Size\n"
     ]
    },
    {
     "name": "stderr",
     "output_type": "stream",
     "text": [
      "      20/50      5.39G      3.674      4.955      3.854          2        640: 100%|██████████| 4/4 [00:01<00:00,  3.29it/s]\n",
      "                 Class     Images  Instances      Box(P          R      mAP50  mAP50-95): 100%|██████████| 1/1 [00:00<00:00,  8.93it/s]"
     ]
    },
    {
     "name": "stdout",
     "output_type": "stream",
     "text": [
      "                   all          9         11   0.000428     0.0909   0.000235   2.35e-05\n"
     ]
    },
    {
     "name": "stderr",
     "output_type": "stream",
     "text": [
      "\n"
     ]
    },
    {
     "name": "stdout",
     "output_type": "stream",
     "text": [
      "\n",
      "      Epoch    GPU_mem   box_loss   cls_loss   dfl_loss  Instances       Size\n"
     ]
    },
    {
     "name": "stderr",
     "output_type": "stream",
     "text": [
      "      21/50      5.38G      3.647      4.766       3.75          6        640: 100%|██████████| 4/4 [00:01<00:00,  3.20it/s]\n",
      "                 Class     Images  Instances      Box(P          R      mAP50  mAP50-95): 100%|██████████| 1/1 [00:00<00:00,  9.35it/s]"
     ]
    },
    {
     "name": "stdout",
     "output_type": "stream",
     "text": [
      "                   all          9         11     0.0167      0.182    0.00401   0.000867\n"
     ]
    },
    {
     "name": "stderr",
     "output_type": "stream",
     "text": [
      "\n"
     ]
    },
    {
     "name": "stdout",
     "output_type": "stream",
     "text": [
      "\n",
      "      Epoch    GPU_mem   box_loss   cls_loss   dfl_loss  Instances       Size\n"
     ]
    },
    {
     "name": "stderr",
     "output_type": "stream",
     "text": [
      "      22/50      5.37G      4.386      5.605      3.999          3        640: 100%|██████████| 4/4 [00:01<00:00,  2.86it/s]\n",
      "                 Class     Images  Instances      Box(P          R      mAP50  mAP50-95): 100%|██████████| 1/1 [00:00<00:00,  8.24it/s]"
     ]
    },
    {
     "name": "stdout",
     "output_type": "stream",
     "text": [
      "                   all          9         11    0.00217      0.182      0.005    0.00105\n"
     ]
    },
    {
     "name": "stderr",
     "output_type": "stream",
     "text": [
      "\n"
     ]
    },
    {
     "name": "stdout",
     "output_type": "stream",
     "text": [
      "\n",
      "      Epoch    GPU_mem   box_loss   cls_loss   dfl_loss  Instances       Size\n"
     ]
    },
    {
     "name": "stderr",
     "output_type": "stream",
     "text": [
      "      23/50      5.37G      3.575      4.393      3.584          3        640: 100%|██████████| 4/4 [00:01<00:00,  2.37it/s]\n",
      "                 Class     Images  Instances      Box(P          R      mAP50  mAP50-95): 100%|██████████| 1/1 [00:00<00:00,  5.65it/s]"
     ]
    },
    {
     "name": "stdout",
     "output_type": "stream",
     "text": [
      "                   all          9         11    0.00123      0.273   0.000742   0.000332\n"
     ]
    },
    {
     "name": "stderr",
     "output_type": "stream",
     "text": [
      "\n"
     ]
    },
    {
     "name": "stdout",
     "output_type": "stream",
     "text": [
      "\n",
      "      Epoch    GPU_mem   box_loss   cls_loss   dfl_loss  Instances       Size\n"
     ]
    },
    {
     "name": "stderr",
     "output_type": "stream",
     "text": [
      "      24/50      5.37G      3.794      4.522      3.886          3        640: 100%|██████████| 4/4 [00:01<00:00,  2.27it/s]\n",
      "                 Class     Images  Instances      Box(P          R      mAP50  mAP50-95): 100%|██████████| 1/1 [00:00<00:00,  6.30it/s]\n"
     ]
    },
    {
     "name": "stdout",
     "output_type": "stream",
     "text": [
      "                   all          9         11    0.00211      0.182    0.00107   0.000428\n",
      "\n",
      "      Epoch    GPU_mem   box_loss   cls_loss   dfl_loss  Instances       Size\n"
     ]
    },
    {
     "name": "stderr",
     "output_type": "stream",
     "text": [
      "      25/50      5.37G      3.369      4.556      3.729          2        640: 100%|██████████| 4/4 [00:01<00:00,  3.07it/s]\n",
      "                 Class     Images  Instances      Box(P          R      mAP50  mAP50-95): 100%|██████████| 1/1 [00:00<00:00,  9.61it/s]"
     ]
    },
    {
     "name": "stdout",
     "output_type": "stream",
     "text": [
      "                   all          9         11    0.00514      0.182    0.00437   0.000548\n"
     ]
    },
    {
     "name": "stderr",
     "output_type": "stream",
     "text": [
      "\n"
     ]
    },
    {
     "name": "stdout",
     "output_type": "stream",
     "text": [
      "\n",
      "      Epoch    GPU_mem   box_loss   cls_loss   dfl_loss  Instances       Size\n"
     ]
    },
    {
     "name": "stderr",
     "output_type": "stream",
     "text": [
      "      26/50      5.37G      3.381      4.101      3.639          2        640: 100%|██████████| 4/4 [00:01<00:00,  3.28it/s]\n",
      "                 Class     Images  Instances      Box(P          R      mAP50  mAP50-95): 100%|██████████| 1/1 [00:00<00:00,  7.75it/s]"
     ]
    },
    {
     "name": "stdout",
     "output_type": "stream",
     "text": [
      "                   all          9         11     0.0116     0.0909    0.00411    0.00118\n"
     ]
    },
    {
     "name": "stderr",
     "output_type": "stream",
     "text": [
      "\n"
     ]
    },
    {
     "name": "stdout",
     "output_type": "stream",
     "text": [
      "\n",
      "      Epoch    GPU_mem   box_loss   cls_loss   dfl_loss  Instances       Size\n"
     ]
    },
    {
     "name": "stderr",
     "output_type": "stream",
     "text": [
      "      27/50      5.37G      3.567      4.153      3.618          4        640: 100%|██████████| 4/4 [00:01<00:00,  3.27it/s]\n",
      "                 Class     Images  Instances      Box(P          R      mAP50  mAP50-95): 100%|██████████| 1/1 [00:00<00:00,  8.89it/s]"
     ]
    },
    {
     "name": "stdout",
     "output_type": "stream",
     "text": [
      "                   all          9         11     0.0312      0.273     0.0174    0.00496\n"
     ]
    },
    {
     "name": "stderr",
     "output_type": "stream",
     "text": [
      "\n"
     ]
    },
    {
     "name": "stdout",
     "output_type": "stream",
     "text": [
      "\n",
      "      Epoch    GPU_mem   box_loss   cls_loss   dfl_loss  Instances       Size\n"
     ]
    },
    {
     "name": "stderr",
     "output_type": "stream",
     "text": [
      "      28/50      5.37G      3.868      4.317       3.68          6        640: 100%|██████████| 4/4 [00:01<00:00,  3.30it/s]\n",
      "                 Class     Images  Instances      Box(P          R      mAP50  mAP50-95): 100%|██████████| 1/1 [00:00<00:00,  9.21it/s]"
     ]
    },
    {
     "name": "stdout",
     "output_type": "stream",
     "text": [
      "                   all          9         11     0.0579      0.182     0.0432     0.0163\n"
     ]
    },
    {
     "name": "stderr",
     "output_type": "stream",
     "text": [
      "\n"
     ]
    },
    {
     "name": "stdout",
     "output_type": "stream",
     "text": [
      "\n",
      "      Epoch    GPU_mem   box_loss   cls_loss   dfl_loss  Instances       Size\n"
     ]
    },
    {
     "name": "stderr",
     "output_type": "stream",
     "text": [
      "      29/50      5.37G      3.781      4.332      4.151          3        640: 100%|██████████| 4/4 [00:01<00:00,  3.07it/s]\n",
      "                 Class     Images  Instances      Box(P          R      mAP50  mAP50-95): 100%|██████████| 1/1 [00:00<00:00,  5.95it/s]"
     ]
    },
    {
     "name": "stdout",
     "output_type": "stream",
     "text": [
      "                   all          9         11    0.00079      0.182   0.000494   0.000167\n"
     ]
    },
    {
     "name": "stderr",
     "output_type": "stream",
     "text": [
      "\n"
     ]
    },
    {
     "name": "stdout",
     "output_type": "stream",
     "text": [
      "\n",
      "      Epoch    GPU_mem   box_loss   cls_loss   dfl_loss  Instances       Size\n"
     ]
    },
    {
     "name": "stderr",
     "output_type": "stream",
     "text": [
      "      30/50      5.37G      3.326      3.876      3.509          6        640: 100%|██████████| 4/4 [00:01<00:00,  2.55it/s]\n",
      "                 Class     Images  Instances      Box(P          R      mAP50  mAP50-95): 100%|██████████| 1/1 [00:00<00:00,  6.44it/s]"
     ]
    },
    {
     "name": "stdout",
     "output_type": "stream",
     "text": [
      "                   all          9         11   0.000741      0.182   0.000582   0.000116\n"
     ]
    },
    {
     "name": "stderr",
     "output_type": "stream",
     "text": [
      "\n"
     ]
    },
    {
     "name": "stdout",
     "output_type": "stream",
     "text": [
      "\n",
      "      Epoch    GPU_mem   box_loss   cls_loss   dfl_loss  Instances       Size\n"
     ]
    },
    {
     "name": "stderr",
     "output_type": "stream",
     "text": [
      "      31/50      5.37G      3.573      3.789      3.509          5        640: 100%|██████████| 4/4 [00:01<00:00,  2.18it/s]\n",
      "                 Class     Images  Instances      Box(P          R      mAP50  mAP50-95): 100%|██████████| 1/1 [00:00<00:00,  4.91it/s]"
     ]
    },
    {
     "name": "stdout",
     "output_type": "stream",
     "text": [
      "                   all          9         11     0.0014      0.182   0.000918     0.0002\n"
     ]
    },
    {
     "name": "stderr",
     "output_type": "stream",
     "text": [
      "\n"
     ]
    },
    {
     "name": "stdout",
     "output_type": "stream",
     "text": [
      "\n",
      "      Epoch    GPU_mem   box_loss   cls_loss   dfl_loss  Instances       Size\n"
     ]
    },
    {
     "name": "stderr",
     "output_type": "stream",
     "text": [
      "      32/50      5.37G      3.395      3.694      3.343          3        640: 100%|██████████| 4/4 [00:01<00:00,  3.25it/s]\n",
      "                 Class     Images  Instances      Box(P          R      mAP50  mAP50-95): 100%|██████████| 1/1 [00:00<00:00,  9.36it/s]"
     ]
    },
    {
     "name": "stdout",
     "output_type": "stream",
     "text": [
      "                   all          9         11     0.0032      0.182   0.000967   0.000416\n"
     ]
    },
    {
     "name": "stderr",
     "output_type": "stream",
     "text": [
      "\n"
     ]
    },
    {
     "name": "stdout",
     "output_type": "stream",
     "text": [
      "\n",
      "      Epoch    GPU_mem   box_loss   cls_loss   dfl_loss  Instances       Size\n"
     ]
    },
    {
     "name": "stderr",
     "output_type": "stream",
     "text": [
      "      33/50      5.37G      3.164      3.492      3.271         10        640: 100%|██████████| 4/4 [00:01<00:00,  3.30it/s]\n",
      "                 Class     Images  Instances      Box(P          R      mAP50  mAP50-95): 100%|██████████| 1/1 [00:00<00:00,  9.01it/s]"
     ]
    },
    {
     "name": "stdout",
     "output_type": "stream",
     "text": [
      "                   all          9         11    0.00874      0.182    0.00227   0.000657\n"
     ]
    },
    {
     "name": "stderr",
     "output_type": "stream",
     "text": [
      "\n"
     ]
    },
    {
     "name": "stdout",
     "output_type": "stream",
     "text": [
      "\n",
      "      Epoch    GPU_mem   box_loss   cls_loss   dfl_loss  Instances       Size\n"
     ]
    },
    {
     "name": "stderr",
     "output_type": "stream",
     "text": [
      "      34/50      5.37G       3.55      3.699      3.502          6        640: 100%|██████████| 4/4 [00:01<00:00,  3.35it/s]\n",
      "                 Class     Images  Instances      Box(P          R      mAP50  mAP50-95): 100%|██████████| 1/1 [00:00<00:00,  9.30it/s]"
     ]
    },
    {
     "name": "stdout",
     "output_type": "stream",
     "text": [
      "                   all          9         11    0.00295     0.0909    0.00111   0.000381\n"
     ]
    },
    {
     "name": "stderr",
     "output_type": "stream",
     "text": [
      "\n"
     ]
    },
    {
     "name": "stdout",
     "output_type": "stream",
     "text": [
      "\n",
      "      Epoch    GPU_mem   box_loss   cls_loss   dfl_loss  Instances       Size\n"
     ]
    },
    {
     "name": "stderr",
     "output_type": "stream",
     "text": [
      "      35/50      5.37G      3.452      3.583      3.609          5        640: 100%|██████████| 4/4 [00:01<00:00,  3.32it/s]\n",
      "                 Class     Images  Instances      Box(P          R      mAP50  mAP50-95): 100%|██████████| 1/1 [00:00<00:00,  9.05it/s]"
     ]
    },
    {
     "name": "stdout",
     "output_type": "stream",
     "text": [
      "                   all          9         11     0.0053     0.0909    0.00162   0.000645\n"
     ]
    },
    {
     "name": "stderr",
     "output_type": "stream",
     "text": [
      "\n"
     ]
    },
    {
     "name": "stdout",
     "output_type": "stream",
     "text": [
      "\n",
      "      Epoch    GPU_mem   box_loss   cls_loss   dfl_loss  Instances       Size\n"
     ]
    },
    {
     "name": "stderr",
     "output_type": "stream",
     "text": [
      "      36/50      5.37G      3.359      3.346      3.541          3        640: 100%|██████████| 4/4 [00:01<00:00,  2.92it/s]\n",
      "                 Class     Images  Instances      Box(P          R      mAP50  mAP50-95): 100%|██████████| 1/1 [00:00<00:00,  5.92it/s]\n"
     ]
    },
    {
     "name": "stdout",
     "output_type": "stream",
     "text": [
      "                   all          9         11    0.00387     0.0909    0.00159     0.0006\n",
      "\n",
      "      Epoch    GPU_mem   box_loss   cls_loss   dfl_loss  Instances       Size\n"
     ]
    },
    {
     "name": "stderr",
     "output_type": "stream",
     "text": [
      "      37/50      5.37G      2.828       3.19      2.941          2        640: 100%|██████████| 4/4 [00:01<00:00,  2.31it/s]\n",
      "                 Class     Images  Instances      Box(P          R      mAP50  mAP50-95): 100%|██████████| 1/1 [00:00<00:00,  6.29it/s]\n"
     ]
    },
    {
     "name": "stdout",
     "output_type": "stream",
     "text": [
      "                   all          9         11    0.00664     0.0909    0.00184   0.000935\n",
      "\n",
      "      Epoch    GPU_mem   box_loss   cls_loss   dfl_loss  Instances       Size\n"
     ]
    },
    {
     "name": "stderr",
     "output_type": "stream",
     "text": [
      "      38/50      5.37G      3.098       3.15      3.113          5        640: 100%|██████████| 4/4 [00:01<00:00,  2.27it/s]\n",
      "                 Class     Images  Instances      Box(P          R      mAP50  mAP50-95): 100%|██████████| 1/1 [00:00<00:00,  6.99it/s]"
     ]
    },
    {
     "name": "stdout",
     "output_type": "stream",
     "text": [
      "                   all          9         11      0.123     0.0909     0.0302    0.00836\n"
     ]
    },
    {
     "name": "stderr",
     "output_type": "stream",
     "text": [
      "\n"
     ]
    },
    {
     "name": "stdout",
     "output_type": "stream",
     "text": [
      "\n",
      "      Epoch    GPU_mem   box_loss   cls_loss   dfl_loss  Instances       Size\n"
     ]
    },
    {
     "name": "stderr",
     "output_type": "stream",
     "text": [
      "      39/50      5.37G      2.833      2.732      3.082          3        640: 100%|██████████| 4/4 [00:01<00:00,  3.10it/s]\n",
      "                 Class     Images  Instances      Box(P          R      mAP50  mAP50-95): 100%|██████████| 1/1 [00:00<00:00,  9.36it/s]"
     ]
    },
    {
     "name": "stdout",
     "output_type": "stream",
     "text": [
      "                   all          9         11      0.245     0.0909     0.0442     0.0118\n"
     ]
    },
    {
     "name": "stderr",
     "output_type": "stream",
     "text": [
      "\n"
     ]
    },
    {
     "name": "stdout",
     "output_type": "stream",
     "text": [
      "\n",
      "      Epoch    GPU_mem   box_loss   cls_loss   dfl_loss  Instances       Size\n"
     ]
    },
    {
     "name": "stderr",
     "output_type": "stream",
     "text": [
      "      40/50      5.37G        3.1      2.968      3.295          4        640: 100%|██████████| 4/4 [00:01<00:00,  3.24it/s]\n",
      "                 Class     Images  Instances      Box(P          R      mAP50  mAP50-95): 100%|██████████| 1/1 [00:00<00:00,  8.46it/s]"
     ]
    },
    {
     "name": "stdout",
     "output_type": "stream",
     "text": [
      "                   all          9         11      0.297     0.0909     0.0416     0.0102\n"
     ]
    },
    {
     "name": "stderr",
     "output_type": "stream",
     "text": [
      "\n"
     ]
    },
    {
     "name": "stdout",
     "output_type": "stream",
     "text": [
      "Closing dataloader mosaic\n",
      "\u001b[34m\u001b[1malbumentations: \u001b[0mBlur(p=0.01, blur_limit=(3, 7)), MedianBlur(p=0.01, blur_limit=(3, 7)), ToGray(p=0.01, num_output_channels=3, method='weighted_average'), CLAHE(p=0.01, clip_limit=(1.0, 4.0), tile_grid_size=(8, 8))\n",
      "\n",
      "      Epoch    GPU_mem   box_loss   cls_loss   dfl_loss  Instances       Size\n"
     ]
    },
    {
     "name": "stderr",
     "output_type": "stream",
     "text": [
      "      41/50      5.37G       2.64      2.925      3.001          2        640: 100%|██████████| 4/4 [00:02<00:00,  1.62it/s]\n",
      "                 Class     Images  Instances      Box(P          R      mAP50  mAP50-95): 100%|██████████| 1/1 [00:00<00:00,  8.42it/s]"
     ]
    },
    {
     "name": "stdout",
     "output_type": "stream",
     "text": [
      "                   all          9         11      0.161      0.182     0.0872     0.0428\n"
     ]
    },
    {
     "name": "stderr",
     "output_type": "stream",
     "text": [
      "\n"
     ]
    },
    {
     "name": "stdout",
     "output_type": "stream",
     "text": [
      "\n",
      "      Epoch    GPU_mem   box_loss   cls_loss   dfl_loss  Instances       Size\n"
     ]
    },
    {
     "name": "stderr",
     "output_type": "stream",
     "text": [
      "      42/50      5.37G      2.911      2.934      3.101          2        640: 100%|██████████| 4/4 [00:01<00:00,  3.16it/s]\n",
      "                 Class     Images  Instances      Box(P          R      mAP50  mAP50-95): 100%|██████████| 1/1 [00:00<00:00,  5.73it/s]"
     ]
    },
    {
     "name": "stdout",
     "output_type": "stream",
     "text": [
      "                   all          9         11      0.444      0.273      0.171     0.0893\n"
     ]
    },
    {
     "name": "stderr",
     "output_type": "stream",
     "text": [
      "\n"
     ]
    },
    {
     "name": "stdout",
     "output_type": "stream",
     "text": [
      "\n",
      "      Epoch    GPU_mem   box_loss   cls_loss   dfl_loss  Instances       Size\n"
     ]
    },
    {
     "name": "stderr",
     "output_type": "stream",
     "text": [
      "      43/50      5.37G      2.575      2.653      2.821          2        640: 100%|██████████| 4/4 [00:01<00:00,  2.53it/s]\n",
      "                 Class     Images  Instances      Box(P          R      mAP50  mAP50-95): 100%|██████████| 1/1 [00:00<00:00,  6.94it/s]"
     ]
    },
    {
     "name": "stdout",
     "output_type": "stream",
     "text": [
      "                   all          9         11      0.455      0.364      0.237      0.113\n"
     ]
    },
    {
     "name": "stderr",
     "output_type": "stream",
     "text": [
      "\n"
     ]
    },
    {
     "name": "stdout",
     "output_type": "stream",
     "text": [
      "\n",
      "      Epoch    GPU_mem   box_loss   cls_loss   dfl_loss  Instances       Size\n"
     ]
    },
    {
     "name": "stderr",
     "output_type": "stream",
     "text": [
      "      44/50      5.37G      2.666      2.446      2.915          2        640: 100%|██████████| 4/4 [00:01<00:00,  2.12it/s]\n",
      "                 Class     Images  Instances      Box(P          R      mAP50  mAP50-95): 100%|██████████| 1/1 [00:00<00:00,  5.52it/s]"
     ]
    },
    {
     "name": "stdout",
     "output_type": "stream",
     "text": [
      "                   all          9         11      0.493      0.273       0.26       0.12\n"
     ]
    },
    {
     "name": "stderr",
     "output_type": "stream",
     "text": [
      "\n"
     ]
    },
    {
     "name": "stdout",
     "output_type": "stream",
     "text": [
      "\n",
      "      Epoch    GPU_mem   box_loss   cls_loss   dfl_loss  Instances       Size\n"
     ]
    },
    {
     "name": "stderr",
     "output_type": "stream",
     "text": [
      "      45/50      5.37G      2.643      2.065      3.031          2        640: 100%|██████████| 4/4 [00:01<00:00,  2.10it/s]\n",
      "                 Class     Images  Instances      Box(P          R      mAP50  mAP50-95): 100%|██████████| 1/1 [00:00<00:00,  7.88it/s]"
     ]
    },
    {
     "name": "stdout",
     "output_type": "stream",
     "text": [
      "                   all          9         11      0.715      0.273      0.308      0.132\n"
     ]
    },
    {
     "name": "stderr",
     "output_type": "stream",
     "text": [
      "\n"
     ]
    },
    {
     "name": "stdout",
     "output_type": "stream",
     "text": [
      "\n",
      "      Epoch    GPU_mem   box_loss   cls_loss   dfl_loss  Instances       Size\n"
     ]
    },
    {
     "name": "stderr",
     "output_type": "stream",
     "text": [
      "      46/50      5.37G      2.422      2.184      2.897          3        640: 100%|██████████| 4/4 [00:01<00:00,  3.35it/s]\n",
      "                 Class     Images  Instances      Box(P          R      mAP50  mAP50-95): 100%|██████████| 1/1 [00:00<00:00,  9.09it/s]"
     ]
    },
    {
     "name": "stdout",
     "output_type": "stream",
     "text": [
      "                   all          9         11      0.737      0.273      0.332      0.134\n"
     ]
    },
    {
     "name": "stderr",
     "output_type": "stream",
     "text": [
      "\n"
     ]
    },
    {
     "name": "stdout",
     "output_type": "stream",
     "text": [
      "\n",
      "      Epoch    GPU_mem   box_loss   cls_loss   dfl_loss  Instances       Size\n"
     ]
    },
    {
     "name": "stderr",
     "output_type": "stream",
     "text": [
      "      47/50      5.37G      2.243      1.994      2.591          2        640: 100%|██████████| 4/4 [00:01<00:00,  3.26it/s]\n",
      "                 Class     Images  Instances      Box(P          R      mAP50  mAP50-95): 100%|██████████| 1/1 [00:00<00:00,  7.96it/s]"
     ]
    },
    {
     "name": "stdout",
     "output_type": "stream",
     "text": [
      "                   all          9         11      0.591      0.264      0.239        0.1\n"
     ]
    },
    {
     "name": "stderr",
     "output_type": "stream",
     "text": [
      "\n"
     ]
    },
    {
     "name": "stdout",
     "output_type": "stream",
     "text": [
      "\n",
      "      Epoch    GPU_mem   box_loss   cls_loss   dfl_loss  Instances       Size\n"
     ]
    },
    {
     "name": "stderr",
     "output_type": "stream",
     "text": [
      "      48/50      5.37G      2.924      2.358      3.037          2        640: 100%|██████████| 4/4 [00:01<00:00,  3.34it/s]\n",
      "                 Class     Images  Instances      Box(P          R      mAP50  mAP50-95): 100%|██████████| 1/1 [00:00<00:00,  9.49it/s]"
     ]
    },
    {
     "name": "stdout",
     "output_type": "stream",
     "text": [
      "                   all          9         11      0.447      0.273      0.235     0.0975\n"
     ]
    },
    {
     "name": "stderr",
     "output_type": "stream",
     "text": [
      "\n"
     ]
    },
    {
     "name": "stdout",
     "output_type": "stream",
     "text": [
      "\n",
      "      Epoch    GPU_mem   box_loss   cls_loss   dfl_loss  Instances       Size\n"
     ]
    },
    {
     "name": "stderr",
     "output_type": "stream",
     "text": [
      "      49/50      5.37G      2.504      2.079       3.05          2        640: 100%|██████████| 4/4 [00:01<00:00,  3.30it/s]\n",
      "                 Class     Images  Instances      Box(P          R      mAP50  mAP50-95): 100%|██████████| 1/1 [00:00<00:00,  8.99it/s]"
     ]
    },
    {
     "name": "stdout",
     "output_type": "stream",
     "text": [
      "                   all          9         11      0.475      0.273      0.198     0.0996\n"
     ]
    },
    {
     "name": "stderr",
     "output_type": "stream",
     "text": [
      "\n"
     ]
    },
    {
     "name": "stdout",
     "output_type": "stream",
     "text": [
      "\n",
      "      Epoch    GPU_mem   box_loss   cls_loss   dfl_loss  Instances       Size\n"
     ]
    },
    {
     "name": "stderr",
     "output_type": "stream",
     "text": [
      "      50/50      5.37G       2.56      1.917      2.936          2        640: 100%|██████████| 4/4 [00:01<00:00,  2.38it/s]\n",
      "                 Class     Images  Instances      Box(P          R      mAP50  mAP50-95): 100%|██████████| 1/1 [00:00<00:00,  5.85it/s]"
     ]
    },
    {
     "name": "stdout",
     "output_type": "stream",
     "text": [
      "                   all          9         11      0.317      0.364      0.241      0.133\n"
     ]
    },
    {
     "name": "stderr",
     "output_type": "stream",
     "text": [
      "\n"
     ]
    },
    {
     "name": "stdout",
     "output_type": "stream",
     "text": [
      "\n",
      "50 epochs completed in 0.054 hours.\n",
      "Optimizer stripped from runs/detect/yolov10-custom4/weights/last.pt, 16.5MB\n",
      "Optimizer stripped from runs/detect/yolov10-custom4/weights/best.pt, 16.5MB\n",
      "\n",
      "Validating runs/detect/yolov10-custom4/weights/best.pt...\n",
      "Ultralytics 8.3.53 🚀 Python-3.10.12 torch-2.5.1+cu121 CUDA:0 (Tesla T4, 15102MiB)\n",
      "YOLOv10s summary (fused): 293 layers, 8,035,734 parameters, 0 gradients, 24.4 GFLOPs\n"
     ]
    },
    {
     "name": "stderr",
     "output_type": "stream",
     "text": [
      "                 Class     Images  Instances      Box(P          R      mAP50  mAP50-95): 100%|██████████| 1/1 [00:00<00:00,  6.54it/s]\n"
     ]
    },
    {
     "name": "stdout",
     "output_type": "stream",
     "text": [
      "                   all          9         11      0.737      0.273      0.337      0.135\n",
      "Speed: 0.2ms preprocess, 6.2ms inference, 0.0ms loss, 0.1ms postprocess per image\n",
      "Results saved to \u001b[1mruns/detect/yolov10-custom4\u001b[0m\n"
     ]
    },
    {
     "data": {
      "text/plain": [
       "ultralytics.utils.metrics.DetMetrics object with attributes:\n",
       "\n",
       "ap_class_index: array([0])\n",
       "box: ultralytics.utils.metrics.Metric object\n",
       "confusion_matrix: <ultralytics.utils.metrics.ConfusionMatrix object at 0x7bf296358790>\n",
       "curves: ['Precision-Recall(B)', 'F1-Confidence(B)', 'Precision-Confidence(B)', 'Recall-Confidence(B)']\n",
       "curves_results: [[array([          0,    0.001001,    0.002002,    0.003003,    0.004004,    0.005005,    0.006006,    0.007007,    0.008008,    0.009009,     0.01001,    0.011011,    0.012012,    0.013013,    0.014014,    0.015015,    0.016016,    0.017017,    0.018018,    0.019019,     0.02002,    0.021021,    0.022022,    0.023023,\n",
       "          0.024024,    0.025025,    0.026026,    0.027027,    0.028028,    0.029029,     0.03003,    0.031031,    0.032032,    0.033033,    0.034034,    0.035035,    0.036036,    0.037037,    0.038038,    0.039039,     0.04004,    0.041041,    0.042042,    0.043043,    0.044044,    0.045045,    0.046046,    0.047047,\n",
       "          0.048048,    0.049049,     0.05005,    0.051051,    0.052052,    0.053053,    0.054054,    0.055055,    0.056056,    0.057057,    0.058058,    0.059059,     0.06006,    0.061061,    0.062062,    0.063063,    0.064064,    0.065065,    0.066066,    0.067067,    0.068068,    0.069069,     0.07007,    0.071071,\n",
       "          0.072072,    0.073073,    0.074074,    0.075075,    0.076076,    0.077077,    0.078078,    0.079079,     0.08008,    0.081081,    0.082082,    0.083083,    0.084084,    0.085085,    0.086086,    0.087087,    0.088088,    0.089089,     0.09009,    0.091091,    0.092092,    0.093093,    0.094094,    0.095095,\n",
       "          0.096096,    0.097097,    0.098098,    0.099099,      0.1001,      0.1011,      0.1021,      0.1031,      0.1041,     0.10511,     0.10611,     0.10711,     0.10811,     0.10911,     0.11011,     0.11111,     0.11211,     0.11311,     0.11411,     0.11512,     0.11612,     0.11712,     0.11812,     0.11912,\n",
       "           0.12012,     0.12112,     0.12212,     0.12312,     0.12412,     0.12513,     0.12613,     0.12713,     0.12813,     0.12913,     0.13013,     0.13113,     0.13213,     0.13313,     0.13413,     0.13514,     0.13614,     0.13714,     0.13814,     0.13914,     0.14014,     0.14114,     0.14214,     0.14314,\n",
       "           0.14414,     0.14515,     0.14615,     0.14715,     0.14815,     0.14915,     0.15015,     0.15115,     0.15215,     0.15315,     0.15415,     0.15516,     0.15616,     0.15716,     0.15816,     0.15916,     0.16016,     0.16116,     0.16216,     0.16316,     0.16416,     0.16517,     0.16617,     0.16717,\n",
       "           0.16817,     0.16917,     0.17017,     0.17117,     0.17217,     0.17317,     0.17417,     0.17518,     0.17618,     0.17718,     0.17818,     0.17918,     0.18018,     0.18118,     0.18218,     0.18318,     0.18418,     0.18519,     0.18619,     0.18719,     0.18819,     0.18919,     0.19019,     0.19119,\n",
       "           0.19219,     0.19319,     0.19419,      0.1952,      0.1962,      0.1972,      0.1982,      0.1992,      0.2002,      0.2012,      0.2022,      0.2032,      0.2042,     0.20521,     0.20621,     0.20721,     0.20821,     0.20921,     0.21021,     0.21121,     0.21221,     0.21321,     0.21421,     0.21522,\n",
       "           0.21622,     0.21722,     0.21822,     0.21922,     0.22022,     0.22122,     0.22222,     0.22322,     0.22422,     0.22523,     0.22623,     0.22723,     0.22823,     0.22923,     0.23023,     0.23123,     0.23223,     0.23323,     0.23423,     0.23524,     0.23624,     0.23724,     0.23824,     0.23924,\n",
       "           0.24024,     0.24124,     0.24224,     0.24324,     0.24424,     0.24525,     0.24625,     0.24725,     0.24825,     0.24925,     0.25025,     0.25125,     0.25225,     0.25325,     0.25425,     0.25526,     0.25626,     0.25726,     0.25826,     0.25926,     0.26026,     0.26126,     0.26226,     0.26326,\n",
       "           0.26426,     0.26527,     0.26627,     0.26727,     0.26827,     0.26927,     0.27027,     0.27127,     0.27227,     0.27327,     0.27427,     0.27528,     0.27628,     0.27728,     0.27828,     0.27928,     0.28028,     0.28128,     0.28228,     0.28328,     0.28428,     0.28529,     0.28629,     0.28729,\n",
       "           0.28829,     0.28929,     0.29029,     0.29129,     0.29229,     0.29329,     0.29429,      0.2953,      0.2963,      0.2973,      0.2983,      0.2993,      0.3003,      0.3013,      0.3023,      0.3033,      0.3043,     0.30531,     0.30631,     0.30731,     0.30831,     0.30931,     0.31031,     0.31131,\n",
       "           0.31231,     0.31331,     0.31431,     0.31532,     0.31632,     0.31732,     0.31832,     0.31932,     0.32032,     0.32132,     0.32232,     0.32332,     0.32432,     0.32533,     0.32633,     0.32733,     0.32833,     0.32933,     0.33033,     0.33133,     0.33233,     0.33333,     0.33433,     0.33534,\n",
       "           0.33634,     0.33734,     0.33834,     0.33934,     0.34034,     0.34134,     0.34234,     0.34334,     0.34434,     0.34535,     0.34635,     0.34735,     0.34835,     0.34935,     0.35035,     0.35135,     0.35235,     0.35335,     0.35435,     0.35536,     0.35636,     0.35736,     0.35836,     0.35936,\n",
       "           0.36036,     0.36136,     0.36236,     0.36336,     0.36436,     0.36537,     0.36637,     0.36737,     0.36837,     0.36937,     0.37037,     0.37137,     0.37237,     0.37337,     0.37437,     0.37538,     0.37638,     0.37738,     0.37838,     0.37938,     0.38038,     0.38138,     0.38238,     0.38338,\n",
       "           0.38438,     0.38539,     0.38639,     0.38739,     0.38839,     0.38939,     0.39039,     0.39139,     0.39239,     0.39339,     0.39439,      0.3954,      0.3964,      0.3974,      0.3984,      0.3994,      0.4004,      0.4014,      0.4024,      0.4034,      0.4044,     0.40541,     0.40641,     0.40741,\n",
       "           0.40841,     0.40941,     0.41041,     0.41141,     0.41241,     0.41341,     0.41441,     0.41542,     0.41642,     0.41742,     0.41842,     0.41942,     0.42042,     0.42142,     0.42242,     0.42342,     0.42442,     0.42543,     0.42643,     0.42743,     0.42843,     0.42943,     0.43043,     0.43143,\n",
       "           0.43243,     0.43343,     0.43443,     0.43544,     0.43644,     0.43744,     0.43844,     0.43944,     0.44044,     0.44144,     0.44244,     0.44344,     0.44444,     0.44545,     0.44645,     0.44745,     0.44845,     0.44945,     0.45045,     0.45145,     0.45245,     0.45345,     0.45445,     0.45546,\n",
       "           0.45646,     0.45746,     0.45846,     0.45946,     0.46046,     0.46146,     0.46246,     0.46346,     0.46446,     0.46547,     0.46647,     0.46747,     0.46847,     0.46947,     0.47047,     0.47147,     0.47247,     0.47347,     0.47447,     0.47548,     0.47648,     0.47748,     0.47848,     0.47948,\n",
       "           0.48048,     0.48148,     0.48248,     0.48348,     0.48448,     0.48549,     0.48649,     0.48749,     0.48849,     0.48949,     0.49049,     0.49149,     0.49249,     0.49349,     0.49449,      0.4955,      0.4965,      0.4975,      0.4985,      0.4995,      0.5005,      0.5015,      0.5025,      0.5035,\n",
       "            0.5045,     0.50551,     0.50651,     0.50751,     0.50851,     0.50951,     0.51051,     0.51151,     0.51251,     0.51351,     0.51451,     0.51552,     0.51652,     0.51752,     0.51852,     0.51952,     0.52052,     0.52152,     0.52252,     0.52352,     0.52452,     0.52553,     0.52653,     0.52753,\n",
       "           0.52853,     0.52953,     0.53053,     0.53153,     0.53253,     0.53353,     0.53453,     0.53554,     0.53654,     0.53754,     0.53854,     0.53954,     0.54054,     0.54154,     0.54254,     0.54354,     0.54454,     0.54555,     0.54655,     0.54755,     0.54855,     0.54955,     0.55055,     0.55155,\n",
       "           0.55255,     0.55355,     0.55455,     0.55556,     0.55656,     0.55756,     0.55856,     0.55956,     0.56056,     0.56156,     0.56256,     0.56356,     0.56456,     0.56557,     0.56657,     0.56757,     0.56857,     0.56957,     0.57057,     0.57157,     0.57257,     0.57357,     0.57457,     0.57558,\n",
       "           0.57658,     0.57758,     0.57858,     0.57958,     0.58058,     0.58158,     0.58258,     0.58358,     0.58458,     0.58559,     0.58659,     0.58759,     0.58859,     0.58959,     0.59059,     0.59159,     0.59259,     0.59359,     0.59459,      0.5956,      0.5966,      0.5976,      0.5986,      0.5996,\n",
       "            0.6006,      0.6016,      0.6026,      0.6036,      0.6046,     0.60561,     0.60661,     0.60761,     0.60861,     0.60961,     0.61061,     0.61161,     0.61261,     0.61361,     0.61461,     0.61562,     0.61662,     0.61762,     0.61862,     0.61962,     0.62062,     0.62162,     0.62262,     0.62362,\n",
       "           0.62462,     0.62563,     0.62663,     0.62763,     0.62863,     0.62963,     0.63063,     0.63163,     0.63263,     0.63363,     0.63463,     0.63564,     0.63664,     0.63764,     0.63864,     0.63964,     0.64064,     0.64164,     0.64264,     0.64364,     0.64464,     0.64565,     0.64665,     0.64765,\n",
       "           0.64865,     0.64965,     0.65065,     0.65165,     0.65265,     0.65365,     0.65465,     0.65566,     0.65666,     0.65766,     0.65866,     0.65966,     0.66066,     0.66166,     0.66266,     0.66366,     0.66466,     0.66567,     0.66667,     0.66767,     0.66867,     0.66967,     0.67067,     0.67167,\n",
       "           0.67267,     0.67367,     0.67467,     0.67568,     0.67668,     0.67768,     0.67868,     0.67968,     0.68068,     0.68168,     0.68268,     0.68368,     0.68468,     0.68569,     0.68669,     0.68769,     0.68869,     0.68969,     0.69069,     0.69169,     0.69269,     0.69369,     0.69469,      0.6957,\n",
       "            0.6967,      0.6977,      0.6987,      0.6997,      0.7007,      0.7017,      0.7027,      0.7037,      0.7047,     0.70571,     0.70671,     0.70771,     0.70871,     0.70971,     0.71071,     0.71171,     0.71271,     0.71371,     0.71471,     0.71572,     0.71672,     0.71772,     0.71872,     0.71972,\n",
       "           0.72072,     0.72172,     0.72272,     0.72372,     0.72472,     0.72573,     0.72673,     0.72773,     0.72873,     0.72973,     0.73073,     0.73173,     0.73273,     0.73373,     0.73473,     0.73574,     0.73674,     0.73774,     0.73874,     0.73974,     0.74074,     0.74174,     0.74274,     0.74374,\n",
       "           0.74474,     0.74575,     0.74675,     0.74775,     0.74875,     0.74975,     0.75075,     0.75175,     0.75275,     0.75375,     0.75475,     0.75576,     0.75676,     0.75776,     0.75876,     0.75976,     0.76076,     0.76176,     0.76276,     0.76376,     0.76476,     0.76577,     0.76677,     0.76777,\n",
       "           0.76877,     0.76977,     0.77077,     0.77177,     0.77277,     0.77377,     0.77477,     0.77578,     0.77678,     0.77778,     0.77878,     0.77978,     0.78078,     0.78178,     0.78278,     0.78378,     0.78478,     0.78579,     0.78679,     0.78779,     0.78879,     0.78979,     0.79079,     0.79179,\n",
       "           0.79279,     0.79379,     0.79479,      0.7958,      0.7968,      0.7978,      0.7988,      0.7998,      0.8008,      0.8018,      0.8028,      0.8038,      0.8048,     0.80581,     0.80681,     0.80781,     0.80881,     0.80981,     0.81081,     0.81181,     0.81281,     0.81381,     0.81481,     0.81582,\n",
       "           0.81682,     0.81782,     0.81882,     0.81982,     0.82082,     0.82182,     0.82282,     0.82382,     0.82482,     0.82583,     0.82683,     0.82783,     0.82883,     0.82983,     0.83083,     0.83183,     0.83283,     0.83383,     0.83483,     0.83584,     0.83684,     0.83784,     0.83884,     0.83984,\n",
       "           0.84084,     0.84184,     0.84284,     0.84384,     0.84484,     0.84585,     0.84685,     0.84785,     0.84885,     0.84985,     0.85085,     0.85185,     0.85285,     0.85385,     0.85485,     0.85586,     0.85686,     0.85786,     0.85886,     0.85986,     0.86086,     0.86186,     0.86286,     0.86386,\n",
       "           0.86486,     0.86587,     0.86687,     0.86787,     0.86887,     0.86987,     0.87087,     0.87187,     0.87287,     0.87387,     0.87487,     0.87588,     0.87688,     0.87788,     0.87888,     0.87988,     0.88088,     0.88188,     0.88288,     0.88388,     0.88488,     0.88589,     0.88689,     0.88789,\n",
       "           0.88889,     0.88989,     0.89089,     0.89189,     0.89289,     0.89389,     0.89489,      0.8959,      0.8969,      0.8979,      0.8989,      0.8999,      0.9009,      0.9019,      0.9029,      0.9039,      0.9049,     0.90591,     0.90691,     0.90791,     0.90891,     0.90991,     0.91091,     0.91191,\n",
       "           0.91291,     0.91391,     0.91491,     0.91592,     0.91692,     0.91792,     0.91892,     0.91992,     0.92092,     0.92192,     0.92292,     0.92392,     0.92492,     0.92593,     0.92693,     0.92793,     0.92893,     0.92993,     0.93093,     0.93193,     0.93293,     0.93393,     0.93493,     0.93594,\n",
       "           0.93694,     0.93794,     0.93894,     0.93994,     0.94094,     0.94194,     0.94294,     0.94394,     0.94494,     0.94595,     0.94695,     0.94795,     0.94895,     0.94995,     0.95095,     0.95195,     0.95295,     0.95395,     0.95495,     0.95596,     0.95696,     0.95796,     0.95896,     0.95996,\n",
       "           0.96096,     0.96196,     0.96296,     0.96396,     0.96496,     0.96597,     0.96697,     0.96797,     0.96897,     0.96997,     0.97097,     0.97197,     0.97297,     0.97397,     0.97497,     0.97598,     0.97698,     0.97798,     0.97898,     0.97998,     0.98098,     0.98198,     0.98298,     0.98398,\n",
       "           0.98498,     0.98599,     0.98699,     0.98799,     0.98899,     0.98999,     0.99099,     0.99199,     0.99299,     0.99399,     0.99499,       0.996,       0.997,       0.998,       0.999,           1]), array([[          1,           1,           1,           1,           1,           1,           1,           1,           1,           1,           1,           1,           1,           1,           1,           1,           1,           1,           1,           1,           1,           1,           1,\n",
       "                  1,           1,           1,           1,           1,           1,           1,           1,           1,           1,           1,           1,           1,           1,           1,           1,           1,           1,           1,           1,           1,           1,           1,\n",
       "                  1,           1,           1,           1,           1,           1,           1,           1,           1,           1,           1,           1,           1,           1,           1,           1,           1,           1,           1,           1,           1,           1,           1,\n",
       "                  1,           1,           1,           1,           1,           1,           1,           1,           1,           1,           1,           1,           1,           1,           1,           1,           1,           1,           1,           1,           1,           1,           1,\n",
       "                  1,           1,           1,           1,           1,           1,           1,           1,           1,           1,           1,           1,           1,           1,           1,           1,           1,           1,           1,           1,           1,           1,           1,\n",
       "                  1,           1,           1,           1,           1,           1,           1,           1,           1,           1,           1,           1,           1,           1,           1,           1,           1,           1,           1,           1,           1,           1,           1,\n",
       "                  1,           1,           1,           1,           1,           1,           1,           1,           1,           1,           1,           1,           1,           1,           1,           1,           1,           1,           1,           1,           1,           1,           1,\n",
       "                  1,           1,           1,           1,           1,           1,           1,           1,           1,           1,           1,           1,           1,           1,           1,           1,           1,           1,           1,           1,           1,           1,           1,\n",
       "                  1,           1,           1,           1,           1,           1,           1,           1,           1,           1,           1,           1,           1,           1,           1,           1,           1,           1,           1,           1,           1,           1,           1,\n",
       "                  1,           1,           1,           1,           1,           1,           1,           1,           1,           1,           1,           1,           1,           1,           1,           1,           1,           1,           1,           1,           1,           1,           1,\n",
       "                  1,           1,           1,           1,           1,           1,           1,           1,           1,           1,           1,           1,           1,           1,           1,           1,           1,           1,           1,           1,           1,           1,           1,\n",
       "                  1,           1,           1,           1,           1,           1,           1,           1,           1,           1,           1,           1,           1,           1,           1,           1,           1,           1,           1,           1,     0.27778,     0.27778,     0.27778,\n",
       "            0.27778,     0.27778,     0.27778,     0.27778,     0.27778,     0.27778,     0.27778,     0.27778,     0.27778,     0.27778,     0.27778,     0.27778,     0.27778,     0.27778,     0.27778,     0.27778,     0.27778,     0.27778,     0.27778,     0.27778,     0.27778,     0.27778,     0.27778,\n",
       "            0.27778,     0.27778,     0.27778,     0.27778,     0.27778,     0.27778,     0.27778,     0.27778,     0.27778,     0.27778,     0.27778,     0.27778,     0.27778,     0.27778,     0.27778,     0.27778,     0.27778,     0.27778,     0.27778,     0.27778,     0.27778,     0.27778,     0.27778,\n",
       "            0.27778,     0.27778,     0.27778,     0.27778,     0.27778,     0.27778,     0.27778,     0.27778,     0.27778,     0.27778,     0.27778,     0.27778,     0.27778,     0.27778,     0.27778,     0.27778,     0.27778,     0.27778,     0.27778,     0.27778,     0.27778,     0.27778,     0.27778,\n",
       "            0.27778,     0.27778,     0.27778,     0.27778,     0.27778,     0.27778,     0.27778,     0.27778,     0.27778,     0.27778,     0.27778,     0.27778,     0.27778,     0.27778,     0.27778,     0.27778,     0.27778,     0.27778,     0.27778,     0.27778,     0.27778,     0.27778,     0.27778,\n",
       "            0.27778,     0.27778,     0.27778,     0.27778,     0.27778,     0.27778,     0.27778,     0.27778,     0.27778,     0.27778,     0.27778,     0.27778,     0.27778,     0.27778,     0.27778,     0.27778,     0.27778,     0.27778,     0.27778,     0.27778,     0.27778,     0.27778,     0.27778,\n",
       "            0.27778,     0.27778,     0.27778,     0.27778,     0.27778,     0.27778,     0.27778,     0.27778,     0.27778,     0.27778,     0.27778,     0.27778,     0.27778,     0.27778,     0.27778,     0.27778,     0.27778,     0.27778,     0.27778,     0.27778,     0.27778,     0.27778,     0.27778,\n",
       "            0.27778,     0.27778,     0.27778,     0.27778,     0.27778,     0.27778,     0.27778,     0.27778,     0.27778,     0.27778,     0.27778,     0.27778,     0.27778,     0.27778,     0.27778,     0.27778,     0.27778,     0.27778,     0.27778,     0.27778,     0.27778,     0.27778,     0.27778,\n",
       "            0.27778,     0.27778,     0.27778,     0.27778,     0.27778,     0.27778,     0.27778,     0.27778,     0.27778,     0.27778,     0.27778,     0.27778,     0.27778,     0.27778,     0.27778,     0.27778,     0.27778,     0.27778,    0.061856,    0.061856,    0.061856,    0.061856,    0.061856,\n",
       "           0.061856,    0.061856,    0.061856,    0.061856,    0.061856,    0.061856,    0.061856,    0.061856,    0.061856,    0.061856,    0.061856,    0.061856,    0.061856,    0.061856,    0.061856,    0.061856,    0.061856,    0.061856,    0.061856,    0.061856,    0.061856,    0.061856,    0.061856,\n",
       "           0.061856,    0.061856,    0.061856,    0.061856,    0.061856,    0.061856,    0.061856,    0.061856,    0.061856,    0.061856,    0.061856,    0.061856,    0.061856,    0.061856,    0.061856,    0.061856,    0.061856,    0.061856,    0.061856,    0.061856,    0.061856,    0.061856,    0.061856,\n",
       "           0.061856,    0.061856,    0.061856,    0.061856,    0.061856,    0.061856,    0.061856,    0.061856,    0.061856,    0.061856,    0.061856,    0.061856,    0.061856,    0.061856,    0.061856,    0.061856,    0.061856,    0.061856,    0.061856,    0.061856,    0.061856,    0.061856,    0.061856,\n",
       "           0.061856,    0.061856,    0.061856,    0.061856,    0.061856,    0.061856,    0.061856,    0.061856,    0.061856,    0.061856,    0.061856,    0.061856,    0.061856,    0.061856,    0.061856,    0.061856,    0.047619,    0.047619,    0.047619,    0.047619,    0.047619,    0.047619,    0.047619,\n",
       "           0.047619,    0.047619,    0.047619,    0.047619,    0.047619,    0.047619,    0.047619,    0.047619,    0.047619,    0.047619,    0.047619,    0.047619,    0.047619,    0.047619,    0.047619,    0.047619,    0.047619,    0.047619,    0.047619,    0.047619,    0.047619,    0.047619,    0.047619,\n",
       "           0.047619,    0.047619,    0.047619,    0.047619,    0.047619,    0.047619,    0.047619,    0.047619,    0.047619,    0.047619,    0.047619,    0.047619,    0.047619,    0.047619,    0.047619,    0.047619,    0.047619,    0.047619,    0.047619,    0.047619,    0.047619,    0.047619,    0.047619,\n",
       "           0.047619,    0.047619,    0.047619,    0.047619,    0.047619,    0.047619,    0.047619,    0.047619,    0.047619,    0.047619,    0.047619,    0.047619,    0.047619,    0.047619,    0.047619,    0.047619,    0.047619,    0.047619,    0.047619,    0.047619,    0.047619,    0.047619,    0.047619,\n",
       "           0.047619,    0.047619,    0.047619,    0.047619,    0.047619,    0.047619,    0.047619,    0.047619,    0.047619,    0.047619,    0.047619,    0.047619,    0.047619,    0.047619,    0.047619,   0.0097966,   0.0097696,   0.0097426,   0.0097156,   0.0096886,   0.0096616,   0.0096346,   0.0096076,\n",
       "          0.0095807,   0.0095537,   0.0095267,   0.0094997,   0.0094727,   0.0094457,   0.0094187,   0.0093917,   0.0093648,   0.0093378,   0.0093108,   0.0092838,   0.0092568,   0.0092298,   0.0092028,   0.0091758,   0.0091489,   0.0091219,   0.0090949,   0.0090679,   0.0090409,   0.0090139,   0.0089869,\n",
       "          0.0089599,    0.008933,    0.008906,    0.008879,    0.008852,    0.008825,    0.008798,    0.008771,    0.008744,   0.0087171,   0.0086901,   0.0086631,   0.0086361,   0.0086091,   0.0085821,   0.0085551,   0.0085281,   0.0085011,   0.0084742,   0.0084472,   0.0084202,   0.0083932,   0.0083662,\n",
       "          0.0083392,   0.0083122,   0.0082852,   0.0082583,   0.0082313,   0.0082043,   0.0081773,   0.0081503,   0.0081233,   0.0080963,   0.0080693,   0.0080424,   0.0080154,   0.0079884,   0.0079614,   0.0079344,   0.0079074,   0.0078804,   0.0078534,   0.0078265,   0.0077995,   0.0077725,   0.0077455,\n",
       "          0.0077185,   0.0076915,   0.0076645,   0.0076375,   0.0076106,   0.0075836,   0.0075566,   0.0075296,   0.0075026,   0.0074756,   0.0074486,   0.0074216,   0.0073946,   0.0073677,   0.0073407,   0.0073137,   0.0072867,   0.0072597,   0.0072327,   0.0072057,   0.0071787,   0.0071518,   0.0071248,\n",
       "          0.0070978,   0.0070708,   0.0070438,   0.0070168,   0.0069898,   0.0069628,   0.0069359,   0.0069089,   0.0068819,   0.0068549,   0.0068279,   0.0068009,   0.0067739,   0.0067469,     0.00672,    0.006693,    0.006666,    0.006639,    0.006612,    0.006585,    0.006558,    0.006531,   0.0065041,\n",
       "          0.0064771,   0.0064501,   0.0064231,   0.0063961,   0.0063691,   0.0063421,   0.0063151,   0.0062882,   0.0062612,   0.0062342,   0.0062072,   0.0061802,   0.0061532,   0.0061262,   0.0060992,   0.0060722,   0.0060453,   0.0060183,   0.0059913,   0.0059643,   0.0059373,   0.0059103,   0.0058833,\n",
       "          0.0058563,   0.0058294,   0.0058024,   0.0057754,   0.0057484,   0.0057214,   0.0056944,   0.0056674,   0.0056404,   0.0056135,   0.0055865,   0.0055595,   0.0055325,   0.0055055,   0.0054785,   0.0054515,   0.0054245,   0.0053976,   0.0053706,   0.0053436,   0.0053166,   0.0052896,   0.0052626,\n",
       "          0.0052356,   0.0052086,   0.0051817,   0.0051547,   0.0051277,   0.0051007,   0.0050737,   0.0050467,   0.0050197,   0.0049927,   0.0049658,   0.0049388,   0.0049118,   0.0048848,   0.0048578,   0.0048308,   0.0048038,   0.0047768,   0.0047498,   0.0047229,   0.0046959,   0.0046689,   0.0046419,\n",
       "          0.0046149,   0.0045879,   0.0045609,   0.0045339,    0.004507,     0.00448,    0.004453,    0.004426,    0.004399,    0.004372,    0.004345,    0.004318,   0.0042911,   0.0042641,   0.0042371,   0.0042101,   0.0041831,   0.0041561,   0.0041291,   0.0041021,   0.0040752,   0.0040482,   0.0040212,\n",
       "          0.0039942,   0.0039672,   0.0039402,   0.0039132,   0.0038862,   0.0038593,   0.0038323,   0.0038053,   0.0037783,   0.0037513,   0.0037243,   0.0036973,   0.0036703,   0.0036433,   0.0036164,   0.0035894,   0.0035624,   0.0035354,   0.0035084,   0.0034814,   0.0034544,   0.0034274,   0.0034005,\n",
       "          0.0033735,   0.0033465,   0.0033195,   0.0032925,   0.0032655,   0.0032385,   0.0032115,   0.0031846,   0.0031576,   0.0031306,   0.0031036,   0.0030766,   0.0030496,   0.0030226,   0.0029956,   0.0029687,   0.0029417,   0.0029147,   0.0028877,   0.0028607,   0.0028337,   0.0028067,   0.0027797,\n",
       "          0.0027528,   0.0027258,   0.0026988,   0.0026718,   0.0026448,   0.0026178,   0.0025908,   0.0025638,   0.0025369,   0.0025099,   0.0024829,   0.0024559,   0.0024289,   0.0024019,   0.0023749,   0.0023479,   0.0023209,    0.002294,    0.002267,     0.00224,    0.002213,    0.002186,    0.002159,\n",
       "           0.002132,    0.002105,   0.0020781,   0.0020511,   0.0020241,   0.0019971,   0.0019701,   0.0019431,   0.0019161,   0.0018891,   0.0018622,   0.0018352,   0.0018082,   0.0017812,   0.0017542,   0.0017272,   0.0017002,   0.0016732,   0.0016463,   0.0016193,   0.0015923,   0.0015653,   0.0015383,\n",
       "          0.0015113,   0.0014843,   0.0014573,   0.0014304,   0.0014034,   0.0013764,   0.0013494,   0.0013224,   0.0012954,   0.0012684,   0.0012414,   0.0012144,   0.0011875,   0.0011605,   0.0011335,   0.0011065,   0.0010795,   0.0010525,   0.0010255,  0.00099855,  0.00097156,  0.00094457,  0.00091758,\n",
       "          0.0008906,  0.00086361,  0.00083662,  0.00080963,  0.00078265,  0.00075566,  0.00072867,  0.00070168,  0.00067469,  0.00064771,  0.00062072,  0.00059373,  0.00056674,  0.00053976,  0.00051277,  0.00048578,  0.00045879,   0.0004318,  0.00040482,  0.00037783,  0.00035084,  0.00032385,  0.00029687,\n",
       "         0.00026988,  0.00024289,   0.0002159,  0.00018891,  0.00016193,  0.00013494,  0.00010795,  8.0963e-05,  5.3976e-05,  2.6988e-05,           0]]), 'Recall', 'Precision'], [array([          0,    0.001001,    0.002002,    0.003003,    0.004004,    0.005005,    0.006006,    0.007007,    0.008008,    0.009009,     0.01001,    0.011011,    0.012012,    0.013013,    0.014014,    0.015015,    0.016016,    0.017017,    0.018018,    0.019019,     0.02002,    0.021021,    0.022022,    0.023023,\n",
       "          0.024024,    0.025025,    0.026026,    0.027027,    0.028028,    0.029029,     0.03003,    0.031031,    0.032032,    0.033033,    0.034034,    0.035035,    0.036036,    0.037037,    0.038038,    0.039039,     0.04004,    0.041041,    0.042042,    0.043043,    0.044044,    0.045045,    0.046046,    0.047047,\n",
       "          0.048048,    0.049049,     0.05005,    0.051051,    0.052052,    0.053053,    0.054054,    0.055055,    0.056056,    0.057057,    0.058058,    0.059059,     0.06006,    0.061061,    0.062062,    0.063063,    0.064064,    0.065065,    0.066066,    0.067067,    0.068068,    0.069069,     0.07007,    0.071071,\n",
       "          0.072072,    0.073073,    0.074074,    0.075075,    0.076076,    0.077077,    0.078078,    0.079079,     0.08008,    0.081081,    0.082082,    0.083083,    0.084084,    0.085085,    0.086086,    0.087087,    0.088088,    0.089089,     0.09009,    0.091091,    0.092092,    0.093093,    0.094094,    0.095095,\n",
       "          0.096096,    0.097097,    0.098098,    0.099099,      0.1001,      0.1011,      0.1021,      0.1031,      0.1041,     0.10511,     0.10611,     0.10711,     0.10811,     0.10911,     0.11011,     0.11111,     0.11211,     0.11311,     0.11411,     0.11512,     0.11612,     0.11712,     0.11812,     0.11912,\n",
       "           0.12012,     0.12112,     0.12212,     0.12312,     0.12412,     0.12513,     0.12613,     0.12713,     0.12813,     0.12913,     0.13013,     0.13113,     0.13213,     0.13313,     0.13413,     0.13514,     0.13614,     0.13714,     0.13814,     0.13914,     0.14014,     0.14114,     0.14214,     0.14314,\n",
       "           0.14414,     0.14515,     0.14615,     0.14715,     0.14815,     0.14915,     0.15015,     0.15115,     0.15215,     0.15315,     0.15415,     0.15516,     0.15616,     0.15716,     0.15816,     0.15916,     0.16016,     0.16116,     0.16216,     0.16316,     0.16416,     0.16517,     0.16617,     0.16717,\n",
       "           0.16817,     0.16917,     0.17017,     0.17117,     0.17217,     0.17317,     0.17417,     0.17518,     0.17618,     0.17718,     0.17818,     0.17918,     0.18018,     0.18118,     0.18218,     0.18318,     0.18418,     0.18519,     0.18619,     0.18719,     0.18819,     0.18919,     0.19019,     0.19119,\n",
       "           0.19219,     0.19319,     0.19419,      0.1952,      0.1962,      0.1972,      0.1982,      0.1992,      0.2002,      0.2012,      0.2022,      0.2032,      0.2042,     0.20521,     0.20621,     0.20721,     0.20821,     0.20921,     0.21021,     0.21121,     0.21221,     0.21321,     0.21421,     0.21522,\n",
       "           0.21622,     0.21722,     0.21822,     0.21922,     0.22022,     0.22122,     0.22222,     0.22322,     0.22422,     0.22523,     0.22623,     0.22723,     0.22823,     0.22923,     0.23023,     0.23123,     0.23223,     0.23323,     0.23423,     0.23524,     0.23624,     0.23724,     0.23824,     0.23924,\n",
       "           0.24024,     0.24124,     0.24224,     0.24324,     0.24424,     0.24525,     0.24625,     0.24725,     0.24825,     0.24925,     0.25025,     0.25125,     0.25225,     0.25325,     0.25425,     0.25526,     0.25626,     0.25726,     0.25826,     0.25926,     0.26026,     0.26126,     0.26226,     0.26326,\n",
       "           0.26426,     0.26527,     0.26627,     0.26727,     0.26827,     0.26927,     0.27027,     0.27127,     0.27227,     0.27327,     0.27427,     0.27528,     0.27628,     0.27728,     0.27828,     0.27928,     0.28028,     0.28128,     0.28228,     0.28328,     0.28428,     0.28529,     0.28629,     0.28729,\n",
       "           0.28829,     0.28929,     0.29029,     0.29129,     0.29229,     0.29329,     0.29429,      0.2953,      0.2963,      0.2973,      0.2983,      0.2993,      0.3003,      0.3013,      0.3023,      0.3033,      0.3043,     0.30531,     0.30631,     0.30731,     0.30831,     0.30931,     0.31031,     0.31131,\n",
       "           0.31231,     0.31331,     0.31431,     0.31532,     0.31632,     0.31732,     0.31832,     0.31932,     0.32032,     0.32132,     0.32232,     0.32332,     0.32432,     0.32533,     0.32633,     0.32733,     0.32833,     0.32933,     0.33033,     0.33133,     0.33233,     0.33333,     0.33433,     0.33534,\n",
       "           0.33634,     0.33734,     0.33834,     0.33934,     0.34034,     0.34134,     0.34234,     0.34334,     0.34434,     0.34535,     0.34635,     0.34735,     0.34835,     0.34935,     0.35035,     0.35135,     0.35235,     0.35335,     0.35435,     0.35536,     0.35636,     0.35736,     0.35836,     0.35936,\n",
       "           0.36036,     0.36136,     0.36236,     0.36336,     0.36436,     0.36537,     0.36637,     0.36737,     0.36837,     0.36937,     0.37037,     0.37137,     0.37237,     0.37337,     0.37437,     0.37538,     0.37638,     0.37738,     0.37838,     0.37938,     0.38038,     0.38138,     0.38238,     0.38338,\n",
       "           0.38438,     0.38539,     0.38639,     0.38739,     0.38839,     0.38939,     0.39039,     0.39139,     0.39239,     0.39339,     0.39439,      0.3954,      0.3964,      0.3974,      0.3984,      0.3994,      0.4004,      0.4014,      0.4024,      0.4034,      0.4044,     0.40541,     0.40641,     0.40741,\n",
       "           0.40841,     0.40941,     0.41041,     0.41141,     0.41241,     0.41341,     0.41441,     0.41542,     0.41642,     0.41742,     0.41842,     0.41942,     0.42042,     0.42142,     0.42242,     0.42342,     0.42442,     0.42543,     0.42643,     0.42743,     0.42843,     0.42943,     0.43043,     0.43143,\n",
       "           0.43243,     0.43343,     0.43443,     0.43544,     0.43644,     0.43744,     0.43844,     0.43944,     0.44044,     0.44144,     0.44244,     0.44344,     0.44444,     0.44545,     0.44645,     0.44745,     0.44845,     0.44945,     0.45045,     0.45145,     0.45245,     0.45345,     0.45445,     0.45546,\n",
       "           0.45646,     0.45746,     0.45846,     0.45946,     0.46046,     0.46146,     0.46246,     0.46346,     0.46446,     0.46547,     0.46647,     0.46747,     0.46847,     0.46947,     0.47047,     0.47147,     0.47247,     0.47347,     0.47447,     0.47548,     0.47648,     0.47748,     0.47848,     0.47948,\n",
       "           0.48048,     0.48148,     0.48248,     0.48348,     0.48448,     0.48549,     0.48649,     0.48749,     0.48849,     0.48949,     0.49049,     0.49149,     0.49249,     0.49349,     0.49449,      0.4955,      0.4965,      0.4975,      0.4985,      0.4995,      0.5005,      0.5015,      0.5025,      0.5035,\n",
       "            0.5045,     0.50551,     0.50651,     0.50751,     0.50851,     0.50951,     0.51051,     0.51151,     0.51251,     0.51351,     0.51451,     0.51552,     0.51652,     0.51752,     0.51852,     0.51952,     0.52052,     0.52152,     0.52252,     0.52352,     0.52452,     0.52553,     0.52653,     0.52753,\n",
       "           0.52853,     0.52953,     0.53053,     0.53153,     0.53253,     0.53353,     0.53453,     0.53554,     0.53654,     0.53754,     0.53854,     0.53954,     0.54054,     0.54154,     0.54254,     0.54354,     0.54454,     0.54555,     0.54655,     0.54755,     0.54855,     0.54955,     0.55055,     0.55155,\n",
       "           0.55255,     0.55355,     0.55455,     0.55556,     0.55656,     0.55756,     0.55856,     0.55956,     0.56056,     0.56156,     0.56256,     0.56356,     0.56456,     0.56557,     0.56657,     0.56757,     0.56857,     0.56957,     0.57057,     0.57157,     0.57257,     0.57357,     0.57457,     0.57558,\n",
       "           0.57658,     0.57758,     0.57858,     0.57958,     0.58058,     0.58158,     0.58258,     0.58358,     0.58458,     0.58559,     0.58659,     0.58759,     0.58859,     0.58959,     0.59059,     0.59159,     0.59259,     0.59359,     0.59459,      0.5956,      0.5966,      0.5976,      0.5986,      0.5996,\n",
       "            0.6006,      0.6016,      0.6026,      0.6036,      0.6046,     0.60561,     0.60661,     0.60761,     0.60861,     0.60961,     0.61061,     0.61161,     0.61261,     0.61361,     0.61461,     0.61562,     0.61662,     0.61762,     0.61862,     0.61962,     0.62062,     0.62162,     0.62262,     0.62362,\n",
       "           0.62462,     0.62563,     0.62663,     0.62763,     0.62863,     0.62963,     0.63063,     0.63163,     0.63263,     0.63363,     0.63463,     0.63564,     0.63664,     0.63764,     0.63864,     0.63964,     0.64064,     0.64164,     0.64264,     0.64364,     0.64464,     0.64565,     0.64665,     0.64765,\n",
       "           0.64865,     0.64965,     0.65065,     0.65165,     0.65265,     0.65365,     0.65465,     0.65566,     0.65666,     0.65766,     0.65866,     0.65966,     0.66066,     0.66166,     0.66266,     0.66366,     0.66466,     0.66567,     0.66667,     0.66767,     0.66867,     0.66967,     0.67067,     0.67167,\n",
       "           0.67267,     0.67367,     0.67467,     0.67568,     0.67668,     0.67768,     0.67868,     0.67968,     0.68068,     0.68168,     0.68268,     0.68368,     0.68468,     0.68569,     0.68669,     0.68769,     0.68869,     0.68969,     0.69069,     0.69169,     0.69269,     0.69369,     0.69469,      0.6957,\n",
       "            0.6967,      0.6977,      0.6987,      0.6997,      0.7007,      0.7017,      0.7027,      0.7037,      0.7047,     0.70571,     0.70671,     0.70771,     0.70871,     0.70971,     0.71071,     0.71171,     0.71271,     0.71371,     0.71471,     0.71572,     0.71672,     0.71772,     0.71872,     0.71972,\n",
       "           0.72072,     0.72172,     0.72272,     0.72372,     0.72472,     0.72573,     0.72673,     0.72773,     0.72873,     0.72973,     0.73073,     0.73173,     0.73273,     0.73373,     0.73473,     0.73574,     0.73674,     0.73774,     0.73874,     0.73974,     0.74074,     0.74174,     0.74274,     0.74374,\n",
       "           0.74474,     0.74575,     0.74675,     0.74775,     0.74875,     0.74975,     0.75075,     0.75175,     0.75275,     0.75375,     0.75475,     0.75576,     0.75676,     0.75776,     0.75876,     0.75976,     0.76076,     0.76176,     0.76276,     0.76376,     0.76476,     0.76577,     0.76677,     0.76777,\n",
       "           0.76877,     0.76977,     0.77077,     0.77177,     0.77277,     0.77377,     0.77477,     0.77578,     0.77678,     0.77778,     0.77878,     0.77978,     0.78078,     0.78178,     0.78278,     0.78378,     0.78478,     0.78579,     0.78679,     0.78779,     0.78879,     0.78979,     0.79079,     0.79179,\n",
       "           0.79279,     0.79379,     0.79479,      0.7958,      0.7968,      0.7978,      0.7988,      0.7998,      0.8008,      0.8018,      0.8028,      0.8038,      0.8048,     0.80581,     0.80681,     0.80781,     0.80881,     0.80981,     0.81081,     0.81181,     0.81281,     0.81381,     0.81481,     0.81582,\n",
       "           0.81682,     0.81782,     0.81882,     0.81982,     0.82082,     0.82182,     0.82282,     0.82382,     0.82482,     0.82583,     0.82683,     0.82783,     0.82883,     0.82983,     0.83083,     0.83183,     0.83283,     0.83383,     0.83483,     0.83584,     0.83684,     0.83784,     0.83884,     0.83984,\n",
       "           0.84084,     0.84184,     0.84284,     0.84384,     0.84484,     0.84585,     0.84685,     0.84785,     0.84885,     0.84985,     0.85085,     0.85185,     0.85285,     0.85385,     0.85485,     0.85586,     0.85686,     0.85786,     0.85886,     0.85986,     0.86086,     0.86186,     0.86286,     0.86386,\n",
       "           0.86486,     0.86587,     0.86687,     0.86787,     0.86887,     0.86987,     0.87087,     0.87187,     0.87287,     0.87387,     0.87487,     0.87588,     0.87688,     0.87788,     0.87888,     0.87988,     0.88088,     0.88188,     0.88288,     0.88388,     0.88488,     0.88589,     0.88689,     0.88789,\n",
       "           0.88889,     0.88989,     0.89089,     0.89189,     0.89289,     0.89389,     0.89489,      0.8959,      0.8969,      0.8979,      0.8989,      0.8999,      0.9009,      0.9019,      0.9029,      0.9039,      0.9049,     0.90591,     0.90691,     0.90791,     0.90891,     0.90991,     0.91091,     0.91191,\n",
       "           0.91291,     0.91391,     0.91491,     0.91592,     0.91692,     0.91792,     0.91892,     0.91992,     0.92092,     0.92192,     0.92292,     0.92392,     0.92492,     0.92593,     0.92693,     0.92793,     0.92893,     0.92993,     0.93093,     0.93193,     0.93293,     0.93393,     0.93493,     0.93594,\n",
       "           0.93694,     0.93794,     0.93894,     0.93994,     0.94094,     0.94194,     0.94294,     0.94394,     0.94494,     0.94595,     0.94695,     0.94795,     0.94895,     0.94995,     0.95095,     0.95195,     0.95295,     0.95395,     0.95495,     0.95596,     0.95696,     0.95796,     0.95896,     0.95996,\n",
       "           0.96096,     0.96196,     0.96296,     0.96396,     0.96496,     0.96597,     0.96697,     0.96797,     0.96897,     0.96997,     0.97097,     0.97197,     0.97297,     0.97397,     0.97497,     0.97598,     0.97698,     0.97798,     0.97898,     0.97998,     0.98098,     0.98198,     0.98298,     0.98398,\n",
       "           0.98498,     0.98599,     0.98699,     0.98799,     0.98899,     0.98999,     0.99099,     0.99199,     0.99299,     0.99399,     0.99499,       0.996,       0.997,       0.998,       0.999,           1]), array([[    0.01931,    0.019476,     0.04242,    0.060952,     0.07983,     0.07857,    0.089653,    0.098604,     0.10917,     0.10097,     0.10438,     0.11025,     0.11828,     0.12537,     0.12724,     0.13104,     0.13387,     0.13461,     0.13985,     0.14421,     0.15431,      0.1583,     0.16594,\n",
       "            0.16788,     0.16927,     0.17197,     0.17897,     0.18045,     0.18217,     0.18613,     0.18864,     0.18947,     0.19026,     0.19106,     0.19185,      0.1963,     0.20185,     0.20486,     0.20672,     0.20845,     0.20935,     0.21025,     0.21115,     0.21204,     0.21288,     0.21346,\n",
       "            0.21404,     0.21462,      0.2152,     0.21578,     0.21636,     0.21693,     0.21768,     0.21913,     0.22057,     0.22201,     0.22325,     0.22445,     0.22565,     0.22685,     0.23307,     0.23583,     0.24538,     0.25603,     0.25713,     0.25789,     0.25865,      0.2594,     0.26016,\n",
       "            0.26091,     0.26166,      0.2624,     0.26315,     0.26397,     0.26479,     0.26561,     0.26643,     0.26725,     0.26806,     0.26887,     0.26968,     0.27129,     0.27503,     0.27812,     0.27947,      0.2808,     0.28213,     0.28345,     0.28477,     0.28625,     0.28813,     0.28999,\n",
       "            0.29185,      0.2937,     0.30077,     0.30463,     0.30681,     0.30896,      0.3111,     0.31279,     0.31362,     0.31445,     0.31528,     0.31611,     0.31694,     0.31776,     0.31858,      0.3194,     0.32022,     0.32103,     0.32184,     0.32288,     0.32632,     0.32971,     0.33306,\n",
       "             0.3335,     0.33368,     0.33386,     0.33404,     0.33422,      0.3344,     0.33458,     0.33476,     0.33494,     0.33512,      0.3353,     0.33548,     0.33566,     0.33584,     0.33602,     0.33619,     0.33637,     0.33655,     0.33673,     0.33691,     0.33709,     0.33726,     0.33744,\n",
       "            0.33762,      0.3378,     0.33798,     0.33815,     0.33833,     0.33851,     0.33869,     0.33886,     0.33904,     0.33922,     0.33939,     0.33957,     0.33975,     0.33992,      0.3401,     0.34028,     0.34045,     0.34063,     0.34081,     0.34098,     0.34116,     0.34133,     0.34151,\n",
       "            0.34168,     0.34186,     0.34203,     0.34221,     0.34238,     0.34256,     0.34273,     0.34291,     0.34308,     0.34326,     0.34343,     0.34361,     0.34378,     0.34396,     0.34413,      0.3443,     0.34448,     0.34465,     0.34482,     0.28577,     0.28619,      0.2866,     0.28702,\n",
       "            0.28744,     0.28785,     0.28827,     0.28868,      0.2891,     0.28951,     0.28992,     0.29033,     0.29074,     0.29115,     0.29156,     0.29197,     0.29238,     0.29278,     0.29319,     0.29359,       0.294,      0.2944,      0.2948,      0.2952,     0.29561,     0.29601,     0.29684,\n",
       "            0.29883,     0.30079,     0.30274,     0.30468,     0.30659,     0.29802,     0.27493,     0.25177,      0.2404,     0.24121,     0.24202,     0.24282,     0.24362,     0.24441,      0.2452,     0.24599,     0.24677,     0.24755,     0.24832,     0.24909,     0.24986,     0.25015,     0.25034,\n",
       "            0.25053,     0.25072,     0.25091,      0.2511,     0.25129,     0.25148,     0.25166,     0.25185,     0.25204,     0.25223,     0.25241,      0.2526,     0.25279,     0.25297,     0.25316,     0.25335,     0.25353,     0.25372,      0.2539,     0.25409,     0.25427,     0.25446,     0.25464,\n",
       "            0.25482,     0.25501,     0.25519,     0.25537,     0.25556,     0.25574,     0.25592,     0.25611,     0.25629,     0.25647,     0.25665,     0.25683,     0.25701,     0.25719,     0.25738,     0.25756,     0.25774,     0.25792,      0.2581,     0.25828,     0.25846,     0.25863,     0.25881,\n",
       "            0.25899,     0.25917,     0.25935,     0.25953,     0.25971,     0.25988,     0.26006,     0.26024,     0.26041,     0.26059,     0.26077,     0.26612,     0.27327,     0.27447,     0.27567,     0.27685,     0.27803,     0.27919,     0.28034,     0.28149,     0.28262,     0.28374,     0.28486,\n",
       "            0.28582,     0.28629,     0.28676,     0.28723,      0.2877,     0.28816,     0.28863,     0.28909,     0.28955,     0.29001,     0.29046,     0.29092,     0.29137,     0.29183,     0.29228,     0.29272,     0.29317,     0.29362,     0.29406,      0.2945,     0.29494,     0.29538,     0.29582,\n",
       "            0.29626,     0.29669,     0.29713,     0.29756,     0.29799,     0.29842,     0.29884,     0.29927,     0.29969,     0.30076,     0.30348,     0.30614,     0.30874,     0.31129,     0.31378,     0.31809,     0.33014,     0.33351,     0.33377,     0.33402,     0.33427,     0.33452,     0.33477,\n",
       "            0.33501,     0.33526,     0.33551,     0.33576,       0.336,     0.33625,     0.33649,     0.33674,     0.33698,     0.33723,     0.33747,     0.33771,     0.33795,     0.33819,     0.33844,     0.33868,     0.33892,     0.33915,     0.33939,     0.33963,     0.33987,      0.3401,     0.34034,\n",
       "            0.34058,     0.34081,     0.34105,     0.34128,     0.34151,     0.34175,     0.34198,     0.34221,     0.34244,     0.34267,      0.3429,     0.34313,     0.34336,     0.34359,     0.34382,     0.34405,     0.34428,      0.3445,     0.34473,     0.34495,     0.34518,      0.3454,     0.34563,\n",
       "            0.34585,     0.34608,      0.3463,     0.34652,     0.34674,     0.34696,     0.34718,      0.3474,     0.34762,     0.34784,     0.34806,     0.34828,      0.3485,     0.34872,     0.34893,     0.34915,     0.34936,     0.34958,     0.34979,     0.35001,     0.35022,     0.35044,     0.35065,\n",
       "            0.35086,     0.35107,     0.35129,      0.3515,     0.35171,     0.35192,     0.35213,     0.35234,     0.35255,     0.35276,     0.35296,     0.35309,     0.35323,     0.35336,      0.3535,     0.35363,     0.35377,      0.3539,     0.35403,     0.35417,      0.3543,     0.35443,     0.35457,\n",
       "             0.3547,     0.35483,     0.35497,      0.3551,     0.35523,     0.35536,      0.3555,     0.35563,     0.35576,     0.35589,     0.35602,     0.35615,     0.35628,     0.35641,     0.35654,     0.35668,     0.35681,     0.35694,     0.35707,     0.35719,     0.35732,     0.35745,     0.35758,\n",
       "            0.35771,     0.35784,     0.35797,      0.3581,     0.35823,     0.35835,     0.35848,     0.35861,     0.35874,     0.35886,     0.35899,     0.35912,     0.35925,     0.35937,      0.3595,     0.35962,     0.35975,     0.35988,        0.36,     0.36013,     0.36025,     0.36038,      0.3605,\n",
       "            0.36063,     0.36075,     0.36088,       0.361,     0.36113,     0.36125,     0.36138,      0.3615,     0.36162,     0.36175,     0.36187,     0.36199,     0.36212,     0.36224,     0.36236,     0.36248,     0.36261,     0.36273,     0.36285,     0.36297,     0.36309,     0.36321,     0.36334,\n",
       "            0.36346,     0.36358,      0.3637,     0.36382,     0.36394,     0.36406,     0.36418,      0.3643,     0.36442,     0.36454,     0.36466,     0.36478,      0.3649,     0.36502,     0.36514,     0.36526,     0.36537,     0.36549,     0.36561,     0.36573,     0.36585,     0.36596,     0.36608,\n",
       "             0.3662,     0.36632,     0.36643,     0.36655,     0.36667,     0.36679,      0.3669,     0.36702,     0.36713,     0.36725,     0.36737,     0.36748,      0.3676,     0.36771,     0.36783,     0.36794,     0.36806,     0.36817,     0.36829,      0.3684,     0.36852,     0.36863,     0.36875,\n",
       "            0.36886,     0.36898,     0.36909,      0.3692,     0.36932,     0.36943,     0.36954,     0.36966,     0.36977,     0.36988,     0.36999,     0.37011,     0.37022,     0.37033,     0.37044,     0.37055,     0.37067,     0.37078,     0.37089,       0.371,     0.37111,     0.37122,     0.37133,\n",
       "            0.37144,     0.37156,     0.37167,     0.37178,     0.37189,       0.372,     0.37211,     0.37222,     0.37233,     0.37244,     0.37254,     0.37265,     0.37276,     0.37287,     0.37298,     0.37309,      0.3732,     0.37331,     0.37341,     0.37352,     0.37363,     0.37374,     0.37385,\n",
       "            0.37395,     0.37406,     0.37417,     0.37428,     0.37438,     0.37449,      0.3746,      0.3747,     0.37481,     0.37492,     0.37506,     0.37536,     0.37565,     0.37594,     0.37624,     0.37653,     0.37682,     0.37711,     0.37739,     0.37768,     0.37797,     0.37825,     0.37854,\n",
       "            0.37882,      0.3791,     0.37938,     0.37966,     0.37994,     0.38022,      0.3805,     0.38078,     0.38105,     0.38133,      0.3816,     0.38187,     0.38215,     0.38242,     0.38269,     0.38296,     0.38323,     0.38349,     0.38376,     0.38403,     0.38429,     0.38455,     0.38482,\n",
       "            0.38508,     0.38534,      0.3856,     0.38586,     0.38612,     0.38638,     0.38664,     0.38689,     0.38715,      0.3874,     0.38766,     0.38791,     0.38816,     0.38841,     0.38866,     0.38891,     0.38916,     0.38941,     0.38966,     0.38991,     0.39015,      0.3904,     0.39064,\n",
       "            0.39089,     0.39113,     0.39137,     0.39161,     0.39185,     0.39209,     0.39233,     0.39257,     0.39281,     0.39304,     0.39328,     0.39352,     0.39375,     0.39398,     0.39422,     0.39445,     0.39468,     0.39491,     0.39514,     0.39537,      0.3956,     0.39583,     0.39606,\n",
       "            0.39629,     0.39651,     0.39674,     0.39696,     0.39719,     0.39741,     0.39763,     0.39785,     0.39808,      0.3983,     0.39852,     0.39874,     0.39896,     0.39917,     0.39939,     0.39961,     0.39982,     0.40053,     0.40326,     0.40589,     0.40842,     0.41086,     0.41322,\n",
       "             0.4155,      0.4177,     0.41983,     0.42188,     0.42387,      0.4258,     0.42767,     0.42784,     0.42638,     0.42491,     0.42345,     0.42198,     0.42051,     0.41904,     0.41756,     0.41609,      0.4146,     0.41312,     0.41163,     0.41015,     0.40865,     0.40716,     0.40566,\n",
       "            0.40416,     0.40266,     0.40115,     0.39964,     0.39813,     0.39661,      0.3951,     0.39358,     0.39205,     0.39053,       0.389,     0.38747,     0.38593,     0.38439,     0.38285,     0.38131,     0.37976,     0.37821,     0.37666,      0.3751,     0.37354,     0.37198,     0.37042,\n",
       "            0.36885,     0.36728,     0.36571,     0.36413,     0.36255,     0.36097,     0.35938,     0.35779,      0.3562,      0.3546,     0.35301,      0.3514,      0.3498,     0.34819,     0.34658,     0.34497,     0.34335,     0.34173,     0.34011,     0.33848,     0.33685,     0.33522,     0.33358,\n",
       "            0.33194,      0.3303,     0.32865,       0.327,     0.32535,      0.3237,     0.32204,     0.32038,     0.31871,     0.31704,     0.31537,     0.31369,     0.31202,     0.31033,     0.30865,     0.30354,     0.29391,     0.28417,     0.27432,     0.26435,     0.25426,     0.24406,     0.23374,\n",
       "             0.2233,     0.21273,     0.20204,     0.19121,     0.18026,     0.16917,           0,           0,           0,           0,           0,           0,           0,           0,           0,           0,           0,           0,           0,           0,           0,           0,           0,\n",
       "                  0,           0,           0,           0,           0,           0,           0,           0,           0,           0,           0,           0,           0,           0,           0,           0,           0,           0,           0,           0,           0,           0,           0,\n",
       "                  0,           0,           0,           0,           0,           0,           0,           0,           0,           0,           0,           0,           0,           0,           0,           0,           0,           0,           0,           0,           0,           0,           0,\n",
       "                  0,           0,           0,           0,           0,           0,           0,           0,           0,           0,           0,           0,           0,           0,           0,           0,           0,           0,           0,           0,           0,           0,           0,\n",
       "                  0,           0,           0,           0,           0,           0,           0,           0,           0,           0,           0,           0,           0,           0,           0,           0,           0,           0,           0,           0,           0,           0,           0,\n",
       "                  0,           0,           0,           0,           0,           0,           0,           0,           0,           0,           0,           0,           0,           0,           0,           0,           0,           0,           0,           0,           0,           0,           0,\n",
       "                  0,           0,           0,           0,           0,           0,           0,           0,           0,           0,           0,           0,           0,           0,           0,           0,           0,           0,           0,           0,           0,           0,           0,\n",
       "                  0,           0,           0,           0,           0,           0,           0,           0,           0,           0,           0,           0,           0,           0,           0,           0,           0,           0,           0,           0,           0,           0,           0,\n",
       "                  0,           0,           0,           0,           0,           0,           0,           0,           0,           0,           0]]), 'Confidence', 'F1'], [array([          0,    0.001001,    0.002002,    0.003003,    0.004004,    0.005005,    0.006006,    0.007007,    0.008008,    0.009009,     0.01001,    0.011011,    0.012012,    0.013013,    0.014014,    0.015015,    0.016016,    0.017017,    0.018018,    0.019019,     0.02002,    0.021021,    0.022022,    0.023023,\n",
       "          0.024024,    0.025025,    0.026026,    0.027027,    0.028028,    0.029029,     0.03003,    0.031031,    0.032032,    0.033033,    0.034034,    0.035035,    0.036036,    0.037037,    0.038038,    0.039039,     0.04004,    0.041041,    0.042042,    0.043043,    0.044044,    0.045045,    0.046046,    0.047047,\n",
       "          0.048048,    0.049049,     0.05005,    0.051051,    0.052052,    0.053053,    0.054054,    0.055055,    0.056056,    0.057057,    0.058058,    0.059059,     0.06006,    0.061061,    0.062062,    0.063063,    0.064064,    0.065065,    0.066066,    0.067067,    0.068068,    0.069069,     0.07007,    0.071071,\n",
       "          0.072072,    0.073073,    0.074074,    0.075075,    0.076076,    0.077077,    0.078078,    0.079079,     0.08008,    0.081081,    0.082082,    0.083083,    0.084084,    0.085085,    0.086086,    0.087087,    0.088088,    0.089089,     0.09009,    0.091091,    0.092092,    0.093093,    0.094094,    0.095095,\n",
       "          0.096096,    0.097097,    0.098098,    0.099099,      0.1001,      0.1011,      0.1021,      0.1031,      0.1041,     0.10511,     0.10611,     0.10711,     0.10811,     0.10911,     0.11011,     0.11111,     0.11211,     0.11311,     0.11411,     0.11512,     0.11612,     0.11712,     0.11812,     0.11912,\n",
       "           0.12012,     0.12112,     0.12212,     0.12312,     0.12412,     0.12513,     0.12613,     0.12713,     0.12813,     0.12913,     0.13013,     0.13113,     0.13213,     0.13313,     0.13413,     0.13514,     0.13614,     0.13714,     0.13814,     0.13914,     0.14014,     0.14114,     0.14214,     0.14314,\n",
       "           0.14414,     0.14515,     0.14615,     0.14715,     0.14815,     0.14915,     0.15015,     0.15115,     0.15215,     0.15315,     0.15415,     0.15516,     0.15616,     0.15716,     0.15816,     0.15916,     0.16016,     0.16116,     0.16216,     0.16316,     0.16416,     0.16517,     0.16617,     0.16717,\n",
       "           0.16817,     0.16917,     0.17017,     0.17117,     0.17217,     0.17317,     0.17417,     0.17518,     0.17618,     0.17718,     0.17818,     0.17918,     0.18018,     0.18118,     0.18218,     0.18318,     0.18418,     0.18519,     0.18619,     0.18719,     0.18819,     0.18919,     0.19019,     0.19119,\n",
       "           0.19219,     0.19319,     0.19419,      0.1952,      0.1962,      0.1972,      0.1982,      0.1992,      0.2002,      0.2012,      0.2022,      0.2032,      0.2042,     0.20521,     0.20621,     0.20721,     0.20821,     0.20921,     0.21021,     0.21121,     0.21221,     0.21321,     0.21421,     0.21522,\n",
       "           0.21622,     0.21722,     0.21822,     0.21922,     0.22022,     0.22122,     0.22222,     0.22322,     0.22422,     0.22523,     0.22623,     0.22723,     0.22823,     0.22923,     0.23023,     0.23123,     0.23223,     0.23323,     0.23423,     0.23524,     0.23624,     0.23724,     0.23824,     0.23924,\n",
       "           0.24024,     0.24124,     0.24224,     0.24324,     0.24424,     0.24525,     0.24625,     0.24725,     0.24825,     0.24925,     0.25025,     0.25125,     0.25225,     0.25325,     0.25425,     0.25526,     0.25626,     0.25726,     0.25826,     0.25926,     0.26026,     0.26126,     0.26226,     0.26326,\n",
       "           0.26426,     0.26527,     0.26627,     0.26727,     0.26827,     0.26927,     0.27027,     0.27127,     0.27227,     0.27327,     0.27427,     0.27528,     0.27628,     0.27728,     0.27828,     0.27928,     0.28028,     0.28128,     0.28228,     0.28328,     0.28428,     0.28529,     0.28629,     0.28729,\n",
       "           0.28829,     0.28929,     0.29029,     0.29129,     0.29229,     0.29329,     0.29429,      0.2953,      0.2963,      0.2973,      0.2983,      0.2993,      0.3003,      0.3013,      0.3023,      0.3033,      0.3043,     0.30531,     0.30631,     0.30731,     0.30831,     0.30931,     0.31031,     0.31131,\n",
       "           0.31231,     0.31331,     0.31431,     0.31532,     0.31632,     0.31732,     0.31832,     0.31932,     0.32032,     0.32132,     0.32232,     0.32332,     0.32432,     0.32533,     0.32633,     0.32733,     0.32833,     0.32933,     0.33033,     0.33133,     0.33233,     0.33333,     0.33433,     0.33534,\n",
       "           0.33634,     0.33734,     0.33834,     0.33934,     0.34034,     0.34134,     0.34234,     0.34334,     0.34434,     0.34535,     0.34635,     0.34735,     0.34835,     0.34935,     0.35035,     0.35135,     0.35235,     0.35335,     0.35435,     0.35536,     0.35636,     0.35736,     0.35836,     0.35936,\n",
       "           0.36036,     0.36136,     0.36236,     0.36336,     0.36436,     0.36537,     0.36637,     0.36737,     0.36837,     0.36937,     0.37037,     0.37137,     0.37237,     0.37337,     0.37437,     0.37538,     0.37638,     0.37738,     0.37838,     0.37938,     0.38038,     0.38138,     0.38238,     0.38338,\n",
       "           0.38438,     0.38539,     0.38639,     0.38739,     0.38839,     0.38939,     0.39039,     0.39139,     0.39239,     0.39339,     0.39439,      0.3954,      0.3964,      0.3974,      0.3984,      0.3994,      0.4004,      0.4014,      0.4024,      0.4034,      0.4044,     0.40541,     0.40641,     0.40741,\n",
       "           0.40841,     0.40941,     0.41041,     0.41141,     0.41241,     0.41341,     0.41441,     0.41542,     0.41642,     0.41742,     0.41842,     0.41942,     0.42042,     0.42142,     0.42242,     0.42342,     0.42442,     0.42543,     0.42643,     0.42743,     0.42843,     0.42943,     0.43043,     0.43143,\n",
       "           0.43243,     0.43343,     0.43443,     0.43544,     0.43644,     0.43744,     0.43844,     0.43944,     0.44044,     0.44144,     0.44244,     0.44344,     0.44444,     0.44545,     0.44645,     0.44745,     0.44845,     0.44945,     0.45045,     0.45145,     0.45245,     0.45345,     0.45445,     0.45546,\n",
       "           0.45646,     0.45746,     0.45846,     0.45946,     0.46046,     0.46146,     0.46246,     0.46346,     0.46446,     0.46547,     0.46647,     0.46747,     0.46847,     0.46947,     0.47047,     0.47147,     0.47247,     0.47347,     0.47447,     0.47548,     0.47648,     0.47748,     0.47848,     0.47948,\n",
       "           0.48048,     0.48148,     0.48248,     0.48348,     0.48448,     0.48549,     0.48649,     0.48749,     0.48849,     0.48949,     0.49049,     0.49149,     0.49249,     0.49349,     0.49449,      0.4955,      0.4965,      0.4975,      0.4985,      0.4995,      0.5005,      0.5015,      0.5025,      0.5035,\n",
       "            0.5045,     0.50551,     0.50651,     0.50751,     0.50851,     0.50951,     0.51051,     0.51151,     0.51251,     0.51351,     0.51451,     0.51552,     0.51652,     0.51752,     0.51852,     0.51952,     0.52052,     0.52152,     0.52252,     0.52352,     0.52452,     0.52553,     0.52653,     0.52753,\n",
       "           0.52853,     0.52953,     0.53053,     0.53153,     0.53253,     0.53353,     0.53453,     0.53554,     0.53654,     0.53754,     0.53854,     0.53954,     0.54054,     0.54154,     0.54254,     0.54354,     0.54454,     0.54555,     0.54655,     0.54755,     0.54855,     0.54955,     0.55055,     0.55155,\n",
       "           0.55255,     0.55355,     0.55455,     0.55556,     0.55656,     0.55756,     0.55856,     0.55956,     0.56056,     0.56156,     0.56256,     0.56356,     0.56456,     0.56557,     0.56657,     0.56757,     0.56857,     0.56957,     0.57057,     0.57157,     0.57257,     0.57357,     0.57457,     0.57558,\n",
       "           0.57658,     0.57758,     0.57858,     0.57958,     0.58058,     0.58158,     0.58258,     0.58358,     0.58458,     0.58559,     0.58659,     0.58759,     0.58859,     0.58959,     0.59059,     0.59159,     0.59259,     0.59359,     0.59459,      0.5956,      0.5966,      0.5976,      0.5986,      0.5996,\n",
       "            0.6006,      0.6016,      0.6026,      0.6036,      0.6046,     0.60561,     0.60661,     0.60761,     0.60861,     0.60961,     0.61061,     0.61161,     0.61261,     0.61361,     0.61461,     0.61562,     0.61662,     0.61762,     0.61862,     0.61962,     0.62062,     0.62162,     0.62262,     0.62362,\n",
       "           0.62462,     0.62563,     0.62663,     0.62763,     0.62863,     0.62963,     0.63063,     0.63163,     0.63263,     0.63363,     0.63463,     0.63564,     0.63664,     0.63764,     0.63864,     0.63964,     0.64064,     0.64164,     0.64264,     0.64364,     0.64464,     0.64565,     0.64665,     0.64765,\n",
       "           0.64865,     0.64965,     0.65065,     0.65165,     0.65265,     0.65365,     0.65465,     0.65566,     0.65666,     0.65766,     0.65866,     0.65966,     0.66066,     0.66166,     0.66266,     0.66366,     0.66466,     0.66567,     0.66667,     0.66767,     0.66867,     0.66967,     0.67067,     0.67167,\n",
       "           0.67267,     0.67367,     0.67467,     0.67568,     0.67668,     0.67768,     0.67868,     0.67968,     0.68068,     0.68168,     0.68268,     0.68368,     0.68468,     0.68569,     0.68669,     0.68769,     0.68869,     0.68969,     0.69069,     0.69169,     0.69269,     0.69369,     0.69469,      0.6957,\n",
       "            0.6967,      0.6977,      0.6987,      0.6997,      0.7007,      0.7017,      0.7027,      0.7037,      0.7047,     0.70571,     0.70671,     0.70771,     0.70871,     0.70971,     0.71071,     0.71171,     0.71271,     0.71371,     0.71471,     0.71572,     0.71672,     0.71772,     0.71872,     0.71972,\n",
       "           0.72072,     0.72172,     0.72272,     0.72372,     0.72472,     0.72573,     0.72673,     0.72773,     0.72873,     0.72973,     0.73073,     0.73173,     0.73273,     0.73373,     0.73473,     0.73574,     0.73674,     0.73774,     0.73874,     0.73974,     0.74074,     0.74174,     0.74274,     0.74374,\n",
       "           0.74474,     0.74575,     0.74675,     0.74775,     0.74875,     0.74975,     0.75075,     0.75175,     0.75275,     0.75375,     0.75475,     0.75576,     0.75676,     0.75776,     0.75876,     0.75976,     0.76076,     0.76176,     0.76276,     0.76376,     0.76476,     0.76577,     0.76677,     0.76777,\n",
       "           0.76877,     0.76977,     0.77077,     0.77177,     0.77277,     0.77377,     0.77477,     0.77578,     0.77678,     0.77778,     0.77878,     0.77978,     0.78078,     0.78178,     0.78278,     0.78378,     0.78478,     0.78579,     0.78679,     0.78779,     0.78879,     0.78979,     0.79079,     0.79179,\n",
       "           0.79279,     0.79379,     0.79479,      0.7958,      0.7968,      0.7978,      0.7988,      0.7998,      0.8008,      0.8018,      0.8028,      0.8038,      0.8048,     0.80581,     0.80681,     0.80781,     0.80881,     0.80981,     0.81081,     0.81181,     0.81281,     0.81381,     0.81481,     0.81582,\n",
       "           0.81682,     0.81782,     0.81882,     0.81982,     0.82082,     0.82182,     0.82282,     0.82382,     0.82482,     0.82583,     0.82683,     0.82783,     0.82883,     0.82983,     0.83083,     0.83183,     0.83283,     0.83383,     0.83483,     0.83584,     0.83684,     0.83784,     0.83884,     0.83984,\n",
       "           0.84084,     0.84184,     0.84284,     0.84384,     0.84484,     0.84585,     0.84685,     0.84785,     0.84885,     0.84985,     0.85085,     0.85185,     0.85285,     0.85385,     0.85485,     0.85586,     0.85686,     0.85786,     0.85886,     0.85986,     0.86086,     0.86186,     0.86286,     0.86386,\n",
       "           0.86486,     0.86587,     0.86687,     0.86787,     0.86887,     0.86987,     0.87087,     0.87187,     0.87287,     0.87387,     0.87487,     0.87588,     0.87688,     0.87788,     0.87888,     0.87988,     0.88088,     0.88188,     0.88288,     0.88388,     0.88488,     0.88589,     0.88689,     0.88789,\n",
       "           0.88889,     0.88989,     0.89089,     0.89189,     0.89289,     0.89389,     0.89489,      0.8959,      0.8969,      0.8979,      0.8989,      0.8999,      0.9009,      0.9019,      0.9029,      0.9039,      0.9049,     0.90591,     0.90691,     0.90791,     0.90891,     0.90991,     0.91091,     0.91191,\n",
       "           0.91291,     0.91391,     0.91491,     0.91592,     0.91692,     0.91792,     0.91892,     0.91992,     0.92092,     0.92192,     0.92292,     0.92392,     0.92492,     0.92593,     0.92693,     0.92793,     0.92893,     0.92993,     0.93093,     0.93193,     0.93293,     0.93393,     0.93493,     0.93594,\n",
       "           0.93694,     0.93794,     0.93894,     0.93994,     0.94094,     0.94194,     0.94294,     0.94394,     0.94494,     0.94595,     0.94695,     0.94795,     0.94895,     0.94995,     0.95095,     0.95195,     0.95295,     0.95395,     0.95495,     0.95596,     0.95696,     0.95796,     0.95896,     0.95996,\n",
       "           0.96096,     0.96196,     0.96296,     0.96396,     0.96496,     0.96597,     0.96697,     0.96797,     0.96897,     0.96997,     0.97097,     0.97197,     0.97297,     0.97397,     0.97497,     0.97598,     0.97698,     0.97798,     0.97898,     0.97998,     0.98098,     0.98198,     0.98298,     0.98398,\n",
       "           0.98498,     0.98599,     0.98699,     0.98799,     0.98899,     0.98999,     0.99099,     0.99199,     0.99299,     0.99399,     0.99499,       0.996,       0.997,       0.998,       0.999,           1]), array([[  0.0098039,   0.0098892,    0.021941,    0.032009,    0.042586,    0.042334,     0.04884,    0.054201,    0.060654,    0.056794,    0.058959,    0.062733,    0.067988,    0.072715,    0.073975,    0.076554,    0.078491,    0.079006,     0.08264,    0.085699,    0.092931,    0.095839,      0.1015,\n",
       "            0.10295,       0.104,     0.10604,     0.11142,     0.11257,     0.11391,     0.11702,     0.11902,     0.11968,     0.12031,     0.12095,     0.12159,     0.12518,     0.12973,     0.13223,     0.13378,     0.13523,     0.13599,     0.13675,     0.13751,     0.13827,     0.13898,     0.13948,\n",
       "            0.13998,     0.14047,     0.14097,     0.14147,     0.14196,     0.14246,     0.14311,     0.14436,     0.14562,     0.14687,     0.14796,     0.14902,     0.15008,     0.15114,     0.15671,     0.15922,     0.16805,      0.1782,     0.17927,     0.18001,     0.18075,     0.18149,     0.18223,\n",
       "            0.18296,      0.1837,     0.18444,     0.18518,     0.18599,     0.18681,     0.18763,     0.18844,     0.18926,     0.19008,     0.19089,     0.19171,     0.19334,     0.19716,     0.20036,     0.20175,     0.20315,     0.20454,     0.20594,     0.20733,      0.2089,     0.21091,     0.21292,\n",
       "            0.21492,     0.21693,     0.22474,     0.22908,     0.23155,     0.23401,     0.23648,     0.23843,      0.2394,     0.24037,     0.24134,     0.24231,     0.24329,     0.24426,     0.24523,      0.2462,     0.24717,     0.24814,     0.24911,     0.25037,     0.25452,     0.25867,     0.26282,\n",
       "            0.26336,     0.26359,     0.26381,     0.26404,     0.26426,     0.26449,     0.26472,     0.26494,     0.26517,     0.26539,     0.26562,     0.26584,     0.26607,     0.26629,     0.26652,     0.26674,     0.26697,     0.26719,     0.26742,     0.26764,     0.26787,     0.26809,     0.26832,\n",
       "            0.26854,     0.26877,     0.26899,     0.26922,     0.26944,     0.26967,     0.26989,     0.27012,     0.27034,     0.27057,     0.27079,     0.27102,     0.27124,     0.27147,     0.27169,     0.27192,     0.27214,     0.27237,      0.2726,     0.27282,     0.27305,     0.27327,      0.2735,\n",
       "            0.27372,     0.27395,     0.27417,      0.2744,     0.27462,     0.27485,     0.27507,      0.2753,     0.27552,     0.27575,     0.27597,      0.2762,     0.27642,     0.27665,     0.27687,      0.2771,     0.27732,     0.27755,     0.27777,     0.23537,     0.23593,      0.2365,     0.23707,\n",
       "            0.23764,     0.23821,     0.23878,     0.23935,     0.23992,     0.24049,     0.24105,     0.24162,     0.24219,     0.24276,     0.24333,      0.2439,     0.24447,     0.24504,      0.2456,     0.24617,     0.24674,     0.24731,     0.24788,     0.24845,     0.24902,     0.24959,     0.25078,\n",
       "            0.25363,     0.25647,     0.25932,     0.26217,     0.26501,     0.25915,     0.24126,     0.22336,     0.21493,     0.21623,     0.21753,     0.21883,     0.22013,     0.22142,     0.22272,     0.22402,     0.22532,     0.22662,     0.22792,     0.22922,     0.23052,     0.23103,     0.23136,\n",
       "            0.23168,       0.232,     0.23233,     0.23265,     0.23297,      0.2333,     0.23362,     0.23395,     0.23427,     0.23459,     0.23492,     0.23524,     0.23557,     0.23589,     0.23621,     0.23654,     0.23686,     0.23718,     0.23751,     0.23783,     0.23816,     0.23848,      0.2388,\n",
       "            0.23913,     0.23945,     0.23977,      0.2401,     0.24042,     0.24075,     0.24107,     0.24139,     0.24172,     0.24204,     0.24237,     0.24269,     0.24301,     0.24334,     0.24366,     0.24398,     0.24431,     0.24463,     0.24496,     0.24528,      0.2456,     0.24593,     0.24625,\n",
       "            0.24657,      0.2469,     0.24722,     0.24755,     0.24787,     0.24819,     0.24852,     0.24884,     0.24917,     0.24949,     0.24981,     0.25982,     0.27381,     0.27624,     0.27867,      0.2811,     0.28354,     0.28597,      0.2884,     0.29083,     0.29326,     0.29569,     0.29812,\n",
       "            0.30024,     0.30128,     0.30232,     0.30337,     0.30441,     0.30545,      0.3065,     0.30754,     0.30858,     0.30963,     0.31067,     0.31171,     0.31276,      0.3138,     0.31484,     0.31589,     0.31693,     0.31797,     0.31902,     0.32006,      0.3211,     0.32215,     0.32319,\n",
       "            0.32423,     0.32528,     0.32632,     0.32736,     0.32841,     0.32945,     0.33049,     0.33154,     0.33258,     0.33522,     0.34206,     0.34889,     0.35572,     0.36256,     0.36939,     0.38155,     0.41816,     0.42917,        0.43,     0.43084,     0.43167,     0.43251,     0.43334,\n",
       "            0.43417,     0.43501,     0.43584,     0.43668,     0.43751,     0.43835,     0.43918,     0.44002,     0.44085,     0.44168,     0.44252,     0.44335,     0.44419,     0.44502,     0.44586,     0.44669,     0.44752,     0.44836,     0.44919,     0.45003,     0.45086,      0.4517,     0.45253,\n",
       "            0.45337,      0.4542,     0.45503,     0.45587,      0.4567,     0.45754,     0.45837,     0.45921,     0.46004,     0.46087,     0.46171,     0.46254,     0.46338,     0.46421,     0.46505,     0.46588,     0.46672,     0.46755,     0.46838,     0.46922,     0.47005,     0.47089,     0.47172,\n",
       "            0.47256,     0.47339,     0.47422,     0.47506,     0.47589,     0.47673,     0.47756,      0.4784,     0.47923,     0.48007,      0.4809,     0.48173,     0.48257,      0.4834,     0.48424,     0.48507,     0.48591,     0.48674,     0.48757,     0.48841,     0.48924,     0.49008,     0.49091,\n",
       "            0.49175,     0.49258,     0.49342,     0.49425,     0.49508,     0.49592,     0.49675,     0.49759,     0.49842,     0.49926,     0.50006,      0.5006,     0.50115,     0.50169,     0.50223,     0.50278,     0.50332,     0.50387,     0.50441,     0.50495,      0.5055,     0.50604,     0.50658,\n",
       "            0.50713,     0.50767,     0.50822,     0.50876,      0.5093,     0.50985,     0.51039,     0.51093,     0.51148,     0.51202,     0.51257,     0.51311,     0.51365,      0.5142,     0.51474,     0.51528,     0.51583,     0.51637,     0.51692,     0.51746,       0.518,     0.51855,     0.51909,\n",
       "            0.51963,     0.52018,     0.52072,     0.52127,     0.52181,     0.52235,      0.5229,     0.52344,     0.52398,     0.52453,     0.52507,     0.52562,     0.52616,      0.5267,     0.52725,     0.52779,     0.52834,     0.52888,     0.52942,     0.52997,     0.53051,     0.53105,      0.5316,\n",
       "            0.53214,     0.53269,     0.53323,     0.53377,     0.53432,     0.53486,      0.5354,     0.53595,     0.53649,     0.53704,     0.53758,     0.53812,     0.53867,     0.53921,     0.53975,      0.5403,     0.54084,     0.54139,     0.54193,     0.54247,     0.54302,     0.54356,      0.5441,\n",
       "            0.54465,     0.54519,     0.54574,     0.54628,     0.54682,     0.54737,     0.54791,     0.54846,       0.549,     0.54954,     0.55009,     0.55063,     0.55117,     0.55172,     0.55226,     0.55281,     0.55335,     0.55389,     0.55444,     0.55498,     0.55552,     0.55607,     0.55661,\n",
       "            0.55716,      0.5577,     0.55824,     0.55879,     0.55933,     0.55987,     0.56042,     0.56096,     0.56151,     0.56205,     0.56259,     0.56314,     0.56368,     0.56422,     0.56477,     0.56531,     0.56586,      0.5664,     0.56694,     0.56749,     0.56803,     0.56857,     0.56912,\n",
       "            0.56966,     0.57021,     0.57075,     0.57129,     0.57184,     0.57238,     0.57293,     0.57347,     0.57401,     0.57456,      0.5751,     0.57564,     0.57619,     0.57673,     0.57728,     0.57782,     0.57836,     0.57891,     0.57945,     0.57999,     0.58054,     0.58108,     0.58163,\n",
       "            0.58217,     0.58271,     0.58326,      0.5838,     0.58434,     0.58489,     0.58543,     0.58598,     0.58652,     0.58706,     0.58761,     0.58815,     0.58869,     0.58924,     0.58978,     0.59033,     0.59087,     0.59141,     0.59196,      0.5925,     0.59305,     0.59359,     0.59413,\n",
       "            0.59468,     0.59522,     0.59576,     0.59631,     0.59685,      0.5974,     0.59794,     0.59848,     0.59903,     0.59957,     0.60032,     0.60183,     0.60335,     0.60486,     0.60638,     0.60789,     0.60941,     0.61092,     0.61244,     0.61395,     0.61547,     0.61698,      0.6185,\n",
       "            0.62001,     0.62153,     0.62304,     0.62456,     0.62607,     0.62758,      0.6291,     0.63061,     0.63213,     0.63364,     0.63516,     0.63667,     0.63819,      0.6397,     0.64122,     0.64273,     0.64425,     0.64576,     0.64728,     0.64879,     0.65031,     0.65182,     0.65334,\n",
       "            0.65485,     0.65637,     0.65788,      0.6594,     0.66091,     0.66243,     0.66394,     0.66546,     0.66697,     0.66848,        0.67,     0.67151,     0.67303,     0.67454,     0.67606,     0.67757,     0.67909,      0.6806,     0.68212,     0.68363,     0.68515,     0.68666,     0.68818,\n",
       "            0.68969,     0.69121,     0.69272,     0.69424,     0.69575,     0.69727,     0.69878,      0.7003,     0.70181,     0.70333,     0.70484,     0.70636,     0.70787,     0.70938,      0.7109,     0.71241,     0.71393,     0.71544,     0.71696,     0.71847,     0.71999,      0.7215,     0.72302,\n",
       "            0.72453,     0.72605,     0.72756,     0.72908,     0.73059,     0.73211,     0.73362,     0.73514,     0.73665,     0.73817,     0.73968,      0.7412,     0.74271,     0.74423,     0.74574,     0.74726,     0.74877,     0.75371,     0.77342,     0.79313,     0.81284,     0.83255,     0.85227,\n",
       "            0.87198,     0.89169,      0.9114,     0.93111,     0.95083,     0.97054,     0.99025,           1,           1,           1,           1,           1,           1,           1,           1,           1,           1,           1,           1,           1,           1,           1,           1,\n",
       "                  1,           1,           1,           1,           1,           1,           1,           1,           1,           1,           1,           1,           1,           1,           1,           1,           1,           1,           1,           1,           1,           1,           1,\n",
       "                  1,           1,           1,           1,           1,           1,           1,           1,           1,           1,           1,           1,           1,           1,           1,           1,           1,           1,           1,           1,           1,           1,           1,\n",
       "                  1,           1,           1,           1,           1,           1,           1,           1,           1,           1,           1,           1,           1,           1,           1,           1,           1,           1,           1,           1,           1,           1,           1,\n",
       "                  1,           1,           1,           1,           1,           1,           1,           1,           1,           1,           1,           1,           1,           1,           1,           1,           1,           1,           1,           1,           1,           1,           1,\n",
       "                  1,           1,           1,           1,           1,           1,           1,           1,           1,           1,           1,           1,           1,           1,           1,           1,           1,           1,           1,           1,           1,           1,           1,\n",
       "                  1,           1,           1,           1,           1,           1,           1,           1,           1,           1,           1,           1,           1,           1,           1,           1,           1,           1,           1,           1,           1,           1,           1,\n",
       "                  1,           1,           1,           1,           1,           1,           1,           1,           1,           1,           1,           1,           1,           1,           1,           1,           1,           1,           1,           1,           1,           1,           1,\n",
       "                  1,           1,           1,           1,           1,           1,           1,           1,           1,           1,           1,           1,           1,           1,           1,           1,           1,           1,           1,           1,           1,           1,           1,\n",
       "                  1,           1,           1,           1,           1,           1,           1,           1,           1,           1,           1,           1,           1,           1,           1,           1,           1,           1,           1,           1,           1,           1,           1,\n",
       "                  1,           1,           1,           1,           1,           1,           1,           1,           1,           1,           1,           1,           1,           1,           1,           1,           1,           1,           1,           1,           1,           1,           1,\n",
       "                  1,           1,           1,           1,           1,           1,           1,           1,           1,           1,           1,           1,           1,           1,           1,           1,           1,           1,           1,           1,           1,           1,           1,\n",
       "                  1,           1,           1,           1,           1,           1,           1,           1,           1,           1,           1]]), 'Confidence', 'Precision'], [array([          0,    0.001001,    0.002002,    0.003003,    0.004004,    0.005005,    0.006006,    0.007007,    0.008008,    0.009009,     0.01001,    0.011011,    0.012012,    0.013013,    0.014014,    0.015015,    0.016016,    0.017017,    0.018018,    0.019019,     0.02002,    0.021021,    0.022022,    0.023023,\n",
       "          0.024024,    0.025025,    0.026026,    0.027027,    0.028028,    0.029029,     0.03003,    0.031031,    0.032032,    0.033033,    0.034034,    0.035035,    0.036036,    0.037037,    0.038038,    0.039039,     0.04004,    0.041041,    0.042042,    0.043043,    0.044044,    0.045045,    0.046046,    0.047047,\n",
       "          0.048048,    0.049049,     0.05005,    0.051051,    0.052052,    0.053053,    0.054054,    0.055055,    0.056056,    0.057057,    0.058058,    0.059059,     0.06006,    0.061061,    0.062062,    0.063063,    0.064064,    0.065065,    0.066066,    0.067067,    0.068068,    0.069069,     0.07007,    0.071071,\n",
       "          0.072072,    0.073073,    0.074074,    0.075075,    0.076076,    0.077077,    0.078078,    0.079079,     0.08008,    0.081081,    0.082082,    0.083083,    0.084084,    0.085085,    0.086086,    0.087087,    0.088088,    0.089089,     0.09009,    0.091091,    0.092092,    0.093093,    0.094094,    0.095095,\n",
       "          0.096096,    0.097097,    0.098098,    0.099099,      0.1001,      0.1011,      0.1021,      0.1031,      0.1041,     0.10511,     0.10611,     0.10711,     0.10811,     0.10911,     0.11011,     0.11111,     0.11211,     0.11311,     0.11411,     0.11512,     0.11612,     0.11712,     0.11812,     0.11912,\n",
       "           0.12012,     0.12112,     0.12212,     0.12312,     0.12412,     0.12513,     0.12613,     0.12713,     0.12813,     0.12913,     0.13013,     0.13113,     0.13213,     0.13313,     0.13413,     0.13514,     0.13614,     0.13714,     0.13814,     0.13914,     0.14014,     0.14114,     0.14214,     0.14314,\n",
       "           0.14414,     0.14515,     0.14615,     0.14715,     0.14815,     0.14915,     0.15015,     0.15115,     0.15215,     0.15315,     0.15415,     0.15516,     0.15616,     0.15716,     0.15816,     0.15916,     0.16016,     0.16116,     0.16216,     0.16316,     0.16416,     0.16517,     0.16617,     0.16717,\n",
       "           0.16817,     0.16917,     0.17017,     0.17117,     0.17217,     0.17317,     0.17417,     0.17518,     0.17618,     0.17718,     0.17818,     0.17918,     0.18018,     0.18118,     0.18218,     0.18318,     0.18418,     0.18519,     0.18619,     0.18719,     0.18819,     0.18919,     0.19019,     0.19119,\n",
       "           0.19219,     0.19319,     0.19419,      0.1952,      0.1962,      0.1972,      0.1982,      0.1992,      0.2002,      0.2012,      0.2022,      0.2032,      0.2042,     0.20521,     0.20621,     0.20721,     0.20821,     0.20921,     0.21021,     0.21121,     0.21221,     0.21321,     0.21421,     0.21522,\n",
       "           0.21622,     0.21722,     0.21822,     0.21922,     0.22022,     0.22122,     0.22222,     0.22322,     0.22422,     0.22523,     0.22623,     0.22723,     0.22823,     0.22923,     0.23023,     0.23123,     0.23223,     0.23323,     0.23423,     0.23524,     0.23624,     0.23724,     0.23824,     0.23924,\n",
       "           0.24024,     0.24124,     0.24224,     0.24324,     0.24424,     0.24525,     0.24625,     0.24725,     0.24825,     0.24925,     0.25025,     0.25125,     0.25225,     0.25325,     0.25425,     0.25526,     0.25626,     0.25726,     0.25826,     0.25926,     0.26026,     0.26126,     0.26226,     0.26326,\n",
       "           0.26426,     0.26527,     0.26627,     0.26727,     0.26827,     0.26927,     0.27027,     0.27127,     0.27227,     0.27327,     0.27427,     0.27528,     0.27628,     0.27728,     0.27828,     0.27928,     0.28028,     0.28128,     0.28228,     0.28328,     0.28428,     0.28529,     0.28629,     0.28729,\n",
       "           0.28829,     0.28929,     0.29029,     0.29129,     0.29229,     0.29329,     0.29429,      0.2953,      0.2963,      0.2973,      0.2983,      0.2993,      0.3003,      0.3013,      0.3023,      0.3033,      0.3043,     0.30531,     0.30631,     0.30731,     0.30831,     0.30931,     0.31031,     0.31131,\n",
       "           0.31231,     0.31331,     0.31431,     0.31532,     0.31632,     0.31732,     0.31832,     0.31932,     0.32032,     0.32132,     0.32232,     0.32332,     0.32432,     0.32533,     0.32633,     0.32733,     0.32833,     0.32933,     0.33033,     0.33133,     0.33233,     0.33333,     0.33433,     0.33534,\n",
       "           0.33634,     0.33734,     0.33834,     0.33934,     0.34034,     0.34134,     0.34234,     0.34334,     0.34434,     0.34535,     0.34635,     0.34735,     0.34835,     0.34935,     0.35035,     0.35135,     0.35235,     0.35335,     0.35435,     0.35536,     0.35636,     0.35736,     0.35836,     0.35936,\n",
       "           0.36036,     0.36136,     0.36236,     0.36336,     0.36436,     0.36537,     0.36637,     0.36737,     0.36837,     0.36937,     0.37037,     0.37137,     0.37237,     0.37337,     0.37437,     0.37538,     0.37638,     0.37738,     0.37838,     0.37938,     0.38038,     0.38138,     0.38238,     0.38338,\n",
       "           0.38438,     0.38539,     0.38639,     0.38739,     0.38839,     0.38939,     0.39039,     0.39139,     0.39239,     0.39339,     0.39439,      0.3954,      0.3964,      0.3974,      0.3984,      0.3994,      0.4004,      0.4014,      0.4024,      0.4034,      0.4044,     0.40541,     0.40641,     0.40741,\n",
       "           0.40841,     0.40941,     0.41041,     0.41141,     0.41241,     0.41341,     0.41441,     0.41542,     0.41642,     0.41742,     0.41842,     0.41942,     0.42042,     0.42142,     0.42242,     0.42342,     0.42442,     0.42543,     0.42643,     0.42743,     0.42843,     0.42943,     0.43043,     0.43143,\n",
       "           0.43243,     0.43343,     0.43443,     0.43544,     0.43644,     0.43744,     0.43844,     0.43944,     0.44044,     0.44144,     0.44244,     0.44344,     0.44444,     0.44545,     0.44645,     0.44745,     0.44845,     0.44945,     0.45045,     0.45145,     0.45245,     0.45345,     0.45445,     0.45546,\n",
       "           0.45646,     0.45746,     0.45846,     0.45946,     0.46046,     0.46146,     0.46246,     0.46346,     0.46446,     0.46547,     0.46647,     0.46747,     0.46847,     0.46947,     0.47047,     0.47147,     0.47247,     0.47347,     0.47447,     0.47548,     0.47648,     0.47748,     0.47848,     0.47948,\n",
       "           0.48048,     0.48148,     0.48248,     0.48348,     0.48448,     0.48549,     0.48649,     0.48749,     0.48849,     0.48949,     0.49049,     0.49149,     0.49249,     0.49349,     0.49449,      0.4955,      0.4965,      0.4975,      0.4985,      0.4995,      0.5005,      0.5015,      0.5025,      0.5035,\n",
       "            0.5045,     0.50551,     0.50651,     0.50751,     0.50851,     0.50951,     0.51051,     0.51151,     0.51251,     0.51351,     0.51451,     0.51552,     0.51652,     0.51752,     0.51852,     0.51952,     0.52052,     0.52152,     0.52252,     0.52352,     0.52452,     0.52553,     0.52653,     0.52753,\n",
       "           0.52853,     0.52953,     0.53053,     0.53153,     0.53253,     0.53353,     0.53453,     0.53554,     0.53654,     0.53754,     0.53854,     0.53954,     0.54054,     0.54154,     0.54254,     0.54354,     0.54454,     0.54555,     0.54655,     0.54755,     0.54855,     0.54955,     0.55055,     0.55155,\n",
       "           0.55255,     0.55355,     0.55455,     0.55556,     0.55656,     0.55756,     0.55856,     0.55956,     0.56056,     0.56156,     0.56256,     0.56356,     0.56456,     0.56557,     0.56657,     0.56757,     0.56857,     0.56957,     0.57057,     0.57157,     0.57257,     0.57357,     0.57457,     0.57558,\n",
       "           0.57658,     0.57758,     0.57858,     0.57958,     0.58058,     0.58158,     0.58258,     0.58358,     0.58458,     0.58559,     0.58659,     0.58759,     0.58859,     0.58959,     0.59059,     0.59159,     0.59259,     0.59359,     0.59459,      0.5956,      0.5966,      0.5976,      0.5986,      0.5996,\n",
       "            0.6006,      0.6016,      0.6026,      0.6036,      0.6046,     0.60561,     0.60661,     0.60761,     0.60861,     0.60961,     0.61061,     0.61161,     0.61261,     0.61361,     0.61461,     0.61562,     0.61662,     0.61762,     0.61862,     0.61962,     0.62062,     0.62162,     0.62262,     0.62362,\n",
       "           0.62462,     0.62563,     0.62663,     0.62763,     0.62863,     0.62963,     0.63063,     0.63163,     0.63263,     0.63363,     0.63463,     0.63564,     0.63664,     0.63764,     0.63864,     0.63964,     0.64064,     0.64164,     0.64264,     0.64364,     0.64464,     0.64565,     0.64665,     0.64765,\n",
       "           0.64865,     0.64965,     0.65065,     0.65165,     0.65265,     0.65365,     0.65465,     0.65566,     0.65666,     0.65766,     0.65866,     0.65966,     0.66066,     0.66166,     0.66266,     0.66366,     0.66466,     0.66567,     0.66667,     0.66767,     0.66867,     0.66967,     0.67067,     0.67167,\n",
       "           0.67267,     0.67367,     0.67467,     0.67568,     0.67668,     0.67768,     0.67868,     0.67968,     0.68068,     0.68168,     0.68268,     0.68368,     0.68468,     0.68569,     0.68669,     0.68769,     0.68869,     0.68969,     0.69069,     0.69169,     0.69269,     0.69369,     0.69469,      0.6957,\n",
       "            0.6967,      0.6977,      0.6987,      0.6997,      0.7007,      0.7017,      0.7027,      0.7037,      0.7047,     0.70571,     0.70671,     0.70771,     0.70871,     0.70971,     0.71071,     0.71171,     0.71271,     0.71371,     0.71471,     0.71572,     0.71672,     0.71772,     0.71872,     0.71972,\n",
       "           0.72072,     0.72172,     0.72272,     0.72372,     0.72472,     0.72573,     0.72673,     0.72773,     0.72873,     0.72973,     0.73073,     0.73173,     0.73273,     0.73373,     0.73473,     0.73574,     0.73674,     0.73774,     0.73874,     0.73974,     0.74074,     0.74174,     0.74274,     0.74374,\n",
       "           0.74474,     0.74575,     0.74675,     0.74775,     0.74875,     0.74975,     0.75075,     0.75175,     0.75275,     0.75375,     0.75475,     0.75576,     0.75676,     0.75776,     0.75876,     0.75976,     0.76076,     0.76176,     0.76276,     0.76376,     0.76476,     0.76577,     0.76677,     0.76777,\n",
       "           0.76877,     0.76977,     0.77077,     0.77177,     0.77277,     0.77377,     0.77477,     0.77578,     0.77678,     0.77778,     0.77878,     0.77978,     0.78078,     0.78178,     0.78278,     0.78378,     0.78478,     0.78579,     0.78679,     0.78779,     0.78879,     0.78979,     0.79079,     0.79179,\n",
       "           0.79279,     0.79379,     0.79479,      0.7958,      0.7968,      0.7978,      0.7988,      0.7998,      0.8008,      0.8018,      0.8028,      0.8038,      0.8048,     0.80581,     0.80681,     0.80781,     0.80881,     0.80981,     0.81081,     0.81181,     0.81281,     0.81381,     0.81481,     0.81582,\n",
       "           0.81682,     0.81782,     0.81882,     0.81982,     0.82082,     0.82182,     0.82282,     0.82382,     0.82482,     0.82583,     0.82683,     0.82783,     0.82883,     0.82983,     0.83083,     0.83183,     0.83283,     0.83383,     0.83483,     0.83584,     0.83684,     0.83784,     0.83884,     0.83984,\n",
       "           0.84084,     0.84184,     0.84284,     0.84384,     0.84484,     0.84585,     0.84685,     0.84785,     0.84885,     0.84985,     0.85085,     0.85185,     0.85285,     0.85385,     0.85485,     0.85586,     0.85686,     0.85786,     0.85886,     0.85986,     0.86086,     0.86186,     0.86286,     0.86386,\n",
       "           0.86486,     0.86587,     0.86687,     0.86787,     0.86887,     0.86987,     0.87087,     0.87187,     0.87287,     0.87387,     0.87487,     0.87588,     0.87688,     0.87788,     0.87888,     0.87988,     0.88088,     0.88188,     0.88288,     0.88388,     0.88488,     0.88589,     0.88689,     0.88789,\n",
       "           0.88889,     0.88989,     0.89089,     0.89189,     0.89289,     0.89389,     0.89489,      0.8959,      0.8969,      0.8979,      0.8989,      0.8999,      0.9009,      0.9019,      0.9029,      0.9039,      0.9049,     0.90591,     0.90691,     0.90791,     0.90891,     0.90991,     0.91091,     0.91191,\n",
       "           0.91291,     0.91391,     0.91491,     0.91592,     0.91692,     0.91792,     0.91892,     0.91992,     0.92092,     0.92192,     0.92292,     0.92392,     0.92492,     0.92593,     0.92693,     0.92793,     0.92893,     0.92993,     0.93093,     0.93193,     0.93293,     0.93393,     0.93493,     0.93594,\n",
       "           0.93694,     0.93794,     0.93894,     0.93994,     0.94094,     0.94194,     0.94294,     0.94394,     0.94494,     0.94595,     0.94695,     0.94795,     0.94895,     0.94995,     0.95095,     0.95195,     0.95295,     0.95395,     0.95495,     0.95596,     0.95696,     0.95796,     0.95896,     0.95996,\n",
       "           0.96096,     0.96196,     0.96296,     0.96396,     0.96496,     0.96597,     0.96697,     0.96797,     0.96897,     0.96997,     0.97097,     0.97197,     0.97297,     0.97397,     0.97497,     0.97598,     0.97698,     0.97798,     0.97898,     0.97998,     0.98098,     0.98198,     0.98298,     0.98398,\n",
       "           0.98498,     0.98599,     0.98699,     0.98799,     0.98899,     0.98999,     0.99099,     0.99199,     0.99299,     0.99399,     0.99499,       0.996,       0.997,       0.998,       0.999,           1]), array([[    0.63636,     0.63636,     0.63636,     0.63636,     0.63636,     0.54545,     0.54545,     0.54545,     0.54545,     0.45455,     0.45455,     0.45455,     0.45455,     0.45455,     0.45455,     0.45455,     0.45455,     0.45455,     0.45455,     0.45455,     0.45455,     0.45455,     0.45455,\n",
       "            0.45455,     0.45455,     0.45455,     0.45455,     0.45455,     0.45455,     0.45455,     0.45455,     0.45455,     0.45455,     0.45455,     0.45455,     0.45455,     0.45455,     0.45455,     0.45455,     0.45455,     0.45455,     0.45455,     0.45455,     0.45455,     0.45455,     0.45455,\n",
       "            0.45455,     0.45455,     0.45455,     0.45455,     0.45455,     0.45455,     0.45455,     0.45455,     0.45455,     0.45455,     0.45455,     0.45455,     0.45455,     0.45455,     0.45455,     0.45455,     0.45455,     0.45455,     0.45455,     0.45455,     0.45455,     0.45455,     0.45455,\n",
       "            0.45455,     0.45455,     0.45455,     0.45455,     0.45455,     0.45455,     0.45455,     0.45455,     0.45455,     0.45455,     0.45455,     0.45455,     0.45455,     0.45455,     0.45455,     0.45455,     0.45455,     0.45455,     0.45455,     0.45455,     0.45455,     0.45455,     0.45455,\n",
       "            0.45455,     0.45455,     0.45455,     0.45455,     0.45455,     0.45455,     0.45455,     0.45455,     0.45455,     0.45455,     0.45455,     0.45455,     0.45455,     0.45455,     0.45455,     0.45455,     0.45455,     0.45455,     0.45455,     0.45455,     0.45455,     0.45455,     0.45455,\n",
       "            0.45455,     0.45455,     0.45455,     0.45455,     0.45455,     0.45455,     0.45455,     0.45455,     0.45455,     0.45455,     0.45455,     0.45455,     0.45455,     0.45455,     0.45455,     0.45455,     0.45455,     0.45455,     0.45455,     0.45455,     0.45455,     0.45455,     0.45455,\n",
       "            0.45455,     0.45455,     0.45455,     0.45455,     0.45455,     0.45455,     0.45455,     0.45455,     0.45455,     0.45455,     0.45455,     0.45455,     0.45455,     0.45455,     0.45455,     0.45455,     0.45455,     0.45455,     0.45455,     0.45455,     0.45455,     0.45455,     0.45455,\n",
       "            0.45455,     0.45455,     0.45455,     0.45455,     0.45455,     0.45455,     0.45455,     0.45455,     0.45455,     0.45455,     0.45455,     0.45455,     0.45455,     0.45455,     0.45455,     0.45455,     0.45455,     0.45455,     0.45455,     0.36364,     0.36364,     0.36364,     0.36364,\n",
       "            0.36364,     0.36364,     0.36364,     0.36364,     0.36364,     0.36364,     0.36364,     0.36364,     0.36364,     0.36364,     0.36364,     0.36364,     0.36364,     0.36364,     0.36364,     0.36364,     0.36364,     0.36364,     0.36364,     0.36364,     0.36364,     0.36364,     0.36364,\n",
       "            0.36364,     0.36364,     0.36364,     0.36364,     0.36364,      0.3506,     0.31954,     0.28847,     0.27273,     0.27273,     0.27273,     0.27273,     0.27273,     0.27273,     0.27273,     0.27273,     0.27273,     0.27273,     0.27273,     0.27273,     0.27273,     0.27273,     0.27273,\n",
       "            0.27273,     0.27273,     0.27273,     0.27273,     0.27273,     0.27273,     0.27273,     0.27273,     0.27273,     0.27273,     0.27273,     0.27273,     0.27273,     0.27273,     0.27273,     0.27273,     0.27273,     0.27273,     0.27273,     0.27273,     0.27273,     0.27273,     0.27273,\n",
       "            0.27273,     0.27273,     0.27273,     0.27273,     0.27273,     0.27273,     0.27273,     0.27273,     0.27273,     0.27273,     0.27273,     0.27273,     0.27273,     0.27273,     0.27273,     0.27273,     0.27273,     0.27273,     0.27273,     0.27273,     0.27273,     0.27273,     0.27273,\n",
       "            0.27273,     0.27273,     0.27273,     0.27273,     0.27273,     0.27273,     0.27273,     0.27273,     0.27273,     0.27273,     0.27273,     0.27273,     0.27273,     0.27273,     0.27273,     0.27273,     0.27273,     0.27273,     0.27273,     0.27273,     0.27273,     0.27273,     0.27273,\n",
       "            0.27273,     0.27273,     0.27273,     0.27273,     0.27273,     0.27273,     0.27273,     0.27273,     0.27273,     0.27273,     0.27273,     0.27273,     0.27273,     0.27273,     0.27273,     0.27273,     0.27273,     0.27273,     0.27273,     0.27273,     0.27273,     0.27273,     0.27273,\n",
       "            0.27273,     0.27273,     0.27273,     0.27273,     0.27273,     0.27273,     0.27273,     0.27273,     0.27273,     0.27273,     0.27273,     0.27273,     0.27273,     0.27273,     0.27273,     0.27273,     0.27273,     0.27273,     0.27273,     0.27273,     0.27273,     0.27273,     0.27273,\n",
       "            0.27273,     0.27273,     0.27273,     0.27273,     0.27273,     0.27273,     0.27273,     0.27273,     0.27273,     0.27273,     0.27273,     0.27273,     0.27273,     0.27273,     0.27273,     0.27273,     0.27273,     0.27273,     0.27273,     0.27273,     0.27273,     0.27273,     0.27273,\n",
       "            0.27273,     0.27273,     0.27273,     0.27273,     0.27273,     0.27273,     0.27273,     0.27273,     0.27273,     0.27273,     0.27273,     0.27273,     0.27273,     0.27273,     0.27273,     0.27273,     0.27273,     0.27273,     0.27273,     0.27273,     0.27273,     0.27273,     0.27273,\n",
       "            0.27273,     0.27273,     0.27273,     0.27273,     0.27273,     0.27273,     0.27273,     0.27273,     0.27273,     0.27273,     0.27273,     0.27273,     0.27273,     0.27273,     0.27273,     0.27273,     0.27273,     0.27273,     0.27273,     0.27273,     0.27273,     0.27273,     0.27273,\n",
       "            0.27273,     0.27273,     0.27273,     0.27273,     0.27273,     0.27273,     0.27273,     0.27273,     0.27273,     0.27273,     0.27273,     0.27273,     0.27273,     0.27273,     0.27273,     0.27273,     0.27273,     0.27273,     0.27273,     0.27273,     0.27273,     0.27273,     0.27273,\n",
       "            0.27273,     0.27273,     0.27273,     0.27273,     0.27273,     0.27273,     0.27273,     0.27273,     0.27273,     0.27273,     0.27273,     0.27273,     0.27273,     0.27273,     0.27273,     0.27273,     0.27273,     0.27273,     0.27273,     0.27273,     0.27273,     0.27273,     0.27273,\n",
       "            0.27273,     0.27273,     0.27273,     0.27273,     0.27273,     0.27273,     0.27273,     0.27273,     0.27273,     0.27273,     0.27273,     0.27273,     0.27273,     0.27273,     0.27273,     0.27273,     0.27273,     0.27273,     0.27273,     0.27273,     0.27273,     0.27273,     0.27273,\n",
       "            0.27273,     0.27273,     0.27273,     0.27273,     0.27273,     0.27273,     0.27273,     0.27273,     0.27273,     0.27273,     0.27273,     0.27273,     0.27273,     0.27273,     0.27273,     0.27273,     0.27273,     0.27273,     0.27273,     0.27273,     0.27273,     0.27273,     0.27273,\n",
       "            0.27273,     0.27273,     0.27273,     0.27273,     0.27273,     0.27273,     0.27273,     0.27273,     0.27273,     0.27273,     0.27273,     0.27273,     0.27273,     0.27273,     0.27273,     0.27273,     0.27273,     0.27273,     0.27273,     0.27273,     0.27273,     0.27273,     0.27273,\n",
       "            0.27273,     0.27273,     0.27273,     0.27273,     0.27273,     0.27273,     0.27273,     0.27273,     0.27273,     0.27273,     0.27273,     0.27273,     0.27273,     0.27273,     0.27273,     0.27273,     0.27273,     0.27273,     0.27273,     0.27273,     0.27273,     0.27273,     0.27273,\n",
       "            0.27273,     0.27273,     0.27273,     0.27273,     0.27273,     0.27273,     0.27273,     0.27273,     0.27273,     0.27273,     0.27273,     0.27273,     0.27273,     0.27273,     0.27273,     0.27273,     0.27273,     0.27273,     0.27273,     0.27273,     0.27273,     0.27273,     0.27273,\n",
       "            0.27273,     0.27273,     0.27273,     0.27273,     0.27273,     0.27273,     0.27273,     0.27273,     0.27273,     0.27273,     0.27273,     0.27273,     0.27273,     0.27273,     0.27273,     0.27273,     0.27273,     0.27273,     0.27273,     0.27273,     0.27273,     0.27273,     0.27273,\n",
       "            0.27273,     0.27273,     0.27273,     0.27273,     0.27273,     0.27273,     0.27273,     0.27273,     0.27273,     0.27273,     0.27273,     0.27273,     0.27273,     0.27273,     0.27273,     0.27273,     0.27273,     0.27273,     0.27273,     0.27273,     0.27273,     0.27273,     0.27273,\n",
       "            0.27273,     0.27273,     0.27273,     0.27273,     0.27273,     0.27273,     0.27273,     0.27273,     0.27273,     0.27273,     0.27273,     0.27273,     0.27273,     0.27273,     0.27273,     0.27273,     0.27273,     0.27273,     0.27273,     0.27273,     0.27273,     0.27273,     0.27273,\n",
       "            0.27273,     0.27273,     0.27273,     0.27273,     0.27273,     0.27273,     0.27273,     0.27273,     0.27273,     0.27273,     0.27273,     0.27273,     0.27273,     0.27273,     0.27273,     0.27273,     0.27273,     0.27273,     0.27273,     0.27273,     0.27273,     0.27273,     0.27273,\n",
       "            0.27273,     0.27273,     0.27273,     0.27273,     0.27273,     0.27273,     0.27273,     0.27273,     0.27273,     0.27273,     0.27273,     0.27273,     0.27273,     0.27273,     0.27273,     0.27273,     0.27273,     0.27273,     0.27273,     0.27273,     0.27273,     0.27273,     0.27273,\n",
       "            0.27273,     0.27273,     0.27273,     0.27273,     0.27273,     0.27273,     0.27273,     0.27273,     0.27273,     0.27273,     0.27273,     0.27273,     0.27273,     0.27273,     0.27273,     0.27273,     0.27273,     0.27273,     0.27273,     0.27273,     0.27273,     0.27273,     0.27273,\n",
       "            0.27273,     0.27273,     0.27273,     0.27273,     0.27273,     0.27273,     0.27273,     0.27213,     0.27095,     0.26977,     0.26859,     0.26741,     0.26623,     0.26505,     0.26387,     0.26269,     0.26152,     0.26034,     0.25916,     0.25798,      0.2568,     0.25562,     0.25444,\n",
       "            0.25326,     0.25208,      0.2509,     0.24972,     0.24854,     0.24736,     0.24618,       0.245,     0.24382,     0.24264,     0.24146,     0.24028,      0.2391,     0.23792,     0.23674,     0.23557,     0.23439,     0.23321,     0.23203,     0.23085,     0.22967,     0.22849,     0.22731,\n",
       "            0.22613,     0.22495,     0.22377,     0.22259,     0.22141,     0.22023,     0.21905,     0.21787,     0.21669,     0.21551,     0.21433,     0.21315,     0.21197,     0.21079,     0.20962,     0.20844,     0.20726,     0.20608,      0.2049,     0.20372,     0.20254,     0.20136,     0.20018,\n",
       "              0.199,     0.19782,     0.19664,     0.19546,     0.19428,      0.1931,     0.19192,     0.19074,     0.18956,     0.18838,      0.1872,     0.18602,     0.18484,     0.18367,     0.18249,     0.17893,     0.17227,     0.16562,     0.15896,      0.1523,     0.14565,     0.13899,     0.13234,\n",
       "            0.12568,     0.11902,     0.11237,     0.10571,    0.099057,    0.092401,           0,           0,           0,           0,           0,           0,           0,           0,           0,           0,           0,           0,           0,           0,           0,           0,           0,\n",
       "                  0,           0,           0,           0,           0,           0,           0,           0,           0,           0,           0,           0,           0,           0,           0,           0,           0,           0,           0,           0,           0,           0,           0,\n",
       "                  0,           0,           0,           0,           0,           0,           0,           0,           0,           0,           0,           0,           0,           0,           0,           0,           0,           0,           0,           0,           0,           0,           0,\n",
       "                  0,           0,           0,           0,           0,           0,           0,           0,           0,           0,           0,           0,           0,           0,           0,           0,           0,           0,           0,           0,           0,           0,           0,\n",
       "                  0,           0,           0,           0,           0,           0,           0,           0,           0,           0,           0,           0,           0,           0,           0,           0,           0,           0,           0,           0,           0,           0,           0,\n",
       "                  0,           0,           0,           0,           0,           0,           0,           0,           0,           0,           0,           0,           0,           0,           0,           0,           0,           0,           0,           0,           0,           0,           0,\n",
       "                  0,           0,           0,           0,           0,           0,           0,           0,           0,           0,           0,           0,           0,           0,           0,           0,           0,           0,           0,           0,           0,           0,           0,\n",
       "                  0,           0,           0,           0,           0,           0,           0,           0,           0,           0,           0,           0,           0,           0,           0,           0,           0,           0,           0,           0,           0,           0,           0,\n",
       "                  0,           0,           0,           0,           0,           0,           0,           0,           0,           0,           0]]), 'Confidence', 'Recall']]\n",
       "fitness: 0.154737325937523\n",
       "keys: ['metrics/precision(B)', 'metrics/recall(B)', 'metrics/mAP50(B)', 'metrics/mAP50-95(B)']\n",
       "maps: array([    0.13452])\n",
       "names: {0: 'Handgun'}\n",
       "plot: True\n",
       "results_dict: {'metrics/precision(B)': 0.7366514297548781, 'metrics/recall(B)': 0.2727272727272727, 'metrics/mAP50(B)': 0.3366483128302868, 'metrics/mAP50-95(B)': 0.13452499406054924, 'fitness': 0.154737325937523}\n",
       "save_dir: PosixPath('runs/detect/yolov10-custom4')\n",
       "speed: {'preprocess': 0.20660294426812065, 'inference': 6.169848971896702, 'loss': 0.0014570024278428818, 'postprocess': 0.13687875535753039}\n",
       "task: 'detect'"
      ]
     },
     "execution_count": 10,
     "metadata": {},
     "output_type": "execute_result"
    }
   ],
   "source": [
    "from ultralytics import YOLO\n",
    "model = YOLO('jameslahm/yolov10s.pt')\n",
    "model.train(\n",
    "    data='/content/data.yaml',  # Path to your data.yaml file\n",
    "    epochs=50,                          # Number of training epochs\n",
    "    batch=16,                           # Batch size\n",
    "    imgsz=640,                          # Image size\n",
    "    name='yolov10-custom',              # Save directory name\n",
    "    workers=4                           # Number of workers\n",
    ")"
   ]
  },
  {
   "cell_type": "code",
   "execution_count": 14,
   "metadata": {
    "colab": {
     "base_uri": "https://localhost:8080/"
    },
    "id": "G_dRtxFa3kME",
    "outputId": "5763a1bb-3a74-43b7-b979-7f6ed4ba935c"
   },
   "outputs": [
    {
     "name": "stdout",
     "output_type": "stream",
     "text": [
      "\n",
      "image 1/1 /content/val/images/armas (55).jpg: 448x640 3 Handguns, 36.2ms\n",
      "Speed: 12.9ms preprocess, 36.2ms inference, 2.6ms postprocess per image at shape (1, 3, 448, 640)\n",
      "Results saved to \u001b[1mruns/detect/yolov10-custom45\u001b[0m\n"
     ]
    }
   ],
   "source": [
    "results = model.predict(\n",
    "    source='/content/val/images/armas (55).jpg',  # Path to the input image\n",
    "    imgsz=640,                  # Image size\n",
    "    conf=0.25,                  # Confidence threshold\n",
    "    save=True                   # Save the predictions\n",
    ")"
   ]
  },
  {
   "cell_type": "code",
   "execution_count": 16,
   "metadata": {
    "colab": {
     "base_uri": "https://localhost:8080/"
    },
    "id": "b5Pb_W-H9WhW",
    "outputId": "a808f522-4f2a-43f4-f4aa-b1401e445bee"
   },
   "outputs": [
    {
     "name": "stdout",
     "output_type": "stream",
     "text": [
      "Mounted at /content/gdrive\n"
     ]
    }
   ],
   "source": [
    "from google.colab import drive\n",
    "drive.mount('/content/gdrive')"
   ]
  },
  {
   "cell_type": "code",
   "execution_count": 19,
   "metadata": {
    "id": "6KCFVB4g9uo7"
   },
   "outputs": [],
   "source": [
    "import locale\n",
    "def getpreferredencoding(do_setlocale = True):\n",
    "    return \"UTF-8\"\n",
    "locale.getpreferredencoding = getpreferredencoding"
   ]
  },
  {
   "cell_type": "code",
   "execution_count": 20,
   "metadata": {
    "id": "eTKMO9K_8RDQ"
   },
   "outputs": [],
   "source": [
    "%cp /content/runs/detect/yolov10-custom4/weights/best.pt /content/gdrive/MyDrive/Gun_model"
   ]
  },
  {
   "cell_type": "code",
   "execution_count": null,
   "metadata": {
    "id": "9JWooebU9T8U"
   },
   "outputs": [
    {
     "name": "stdout",
     "output_type": "stream",
     "text": [
      "/bin/bash: line 1: nvidia-smi: command not found\n"
     ]
    }
   ],
   "source": []
  },
  {
   "cell_type": "code",
   "execution_count": null,
   "metadata": {},
   "outputs": [],
   "source": []
  }
 ],
 "metadata": {
  "accelerator": "GPU",
  "colab": {
   "gpuType": "T4",
   "provenance": []
  },
  "kernelspec": {
   "display_name": "gun_detection",
   "language": "python",
   "name": "python3"
  },
  "language_info": {
   "codemirror_mode": {
    "name": "ipython",
    "version": 3
   },
   "file_extension": ".py",
   "mimetype": "text/x-python",
   "name": "python",
   "nbconvert_exporter": "python",
   "pygments_lexer": "ipython3",
   "version": "3.11.11"
  }
 },
 "nbformat": 4,
 "nbformat_minor": 0
}
